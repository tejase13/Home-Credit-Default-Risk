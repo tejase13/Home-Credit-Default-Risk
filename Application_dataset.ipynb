{
  "cells": [
    {
      "metadata": {
        "_uuid": "8f2839f25d086af736a60e9eeb907d3b93b6e0e5",
        "_cell_guid": "b1076dfc-b9ad-4769-8c92-a6c4dae69d19",
        "trusted": true
      },
      "cell_type": "code",
      "source": "# This Python 3 environment comes with many helpful analytics libraries installed\n# It is defined by the kaggle/python docker image: https://github.com/kaggle/docker-python\n# For example, here's several helpful packages to load in \n\nimport numpy as np # linear algebra\nimport pandas as pd # data processing, CSV file I/O (e.g. pd.read_csv)\n\n# Input data files are available in the \"../input/\" directory.\n# For example, running this (by clicking run or pressing Shift+Enter) will list the files in the input directory\n\nimport os\nprint(os.listdir(\"../input\"))\n\n# Any results you write to the current directory are saved as output.\n\nfrom sklearn.linear_model import LogisticRegression\nfrom sklearn.ensemble import RandomForestClassifier\nfrom sklearn.model_selection import cross_val_score\nfrom sklearn.model_selection import GridSearchCV\nfrom sklearn.metrics import roc_auc_score\nfrom sklearn.pipeline import Pipeline\nfrom sklearn.ensemble import RandomForestClassifier\nfrom sklearn.model_selection import KFold\nimport gc\nimport matplotlib.pyplot as plt\nfrom lightgbm import LGBMClassifier",
      "execution_count": 1,
      "outputs": [
        {
          "output_type": "stream",
          "text": "['POS_CASH_balance.csv', 'bureau_balance.csv', 'application_train.csv', 'previous_application.csv', 'installments_payments.csv', 'credit_card_balance.csv', 'sample_submission.csv', 'application_test.csv', 'bureau.csv']\n",
          "name": "stdout"
        }
      ]
    },
    {
      "metadata": {
        "_cell_guid": "79c7e3d0-c299-4dcb-8224-4455121ee9b0",
        "_uuid": "d629ff2d2480ee46fbb7e2d37f6b5fab8052498a",
        "trusted": true
      },
      "cell_type": "code",
      "source": "application_train = pd.read_csv(\"../input/application_train.csv\")\napplication_test = pd.read_csv(\"../input/application_test.csv\")",
      "execution_count": 2,
      "outputs": []
    },
    {
      "metadata": {
        "trusted": true,
        "_uuid": "340a354c80a6c4b643b920fa164062aab86716d4"
      },
      "cell_type": "code",
      "source": "print(application_train.shape, application_test.shape)",
      "execution_count": 3,
      "outputs": [
        {
          "output_type": "stream",
          "text": "(307511, 122) (48744, 121)\n",
          "name": "stdout"
        }
      ]
    },
    {
      "metadata": {
        "trusted": true,
        "_uuid": "18bd2fc86dcd01a40d4980324db320500d571baf"
      },
      "cell_type": "code",
      "source": "application_train[\"source\"] = \"train\"\napplication_test[\"source\"] = \"test\"",
      "execution_count": 4,
      "outputs": []
    },
    {
      "metadata": {
        "_uuid": "4c5da194d56307188d8af2a8ae92229f1367f729"
      },
      "cell_type": "markdown",
      "source": "1)  Append train and test data"
    },
    {
      "metadata": {
        "trusted": true,
        "scrolled": false,
        "_uuid": "78f333b412e0f18cb58fb860b9b4c255d18d16bc"
      },
      "cell_type": "code",
      "source": "application = pd.concat([application_train, application_test], axis=0, ignore_index=True)\napplication.head()",
      "execution_count": 5,
      "outputs": [
        {
          "output_type": "stream",
          "text": "/opt/conda/lib/python3.6/site-packages/ipykernel_launcher.py:1: FutureWarning: Sorting because non-concatenation axis is not aligned. A future version\nof pandas will change to not sort by default.\n\nTo accept the future behavior, pass 'sort=False'.\n\nTo retain the current behavior and silence the warning, pass 'sort=True'.\n\n  \"\"\"Entry point for launching an IPython kernel.\n",
          "name": "stderr"
        },
        {
          "output_type": "execute_result",
          "execution_count": 5,
          "data": {
            "text/plain": "   AMT_ANNUITY  AMT_CREDIT   ...    YEARS_BUILD_MODE  source\n0      24700.5    406597.5   ...              0.6341   train\n1      35698.5   1293502.5   ...              0.8040   train\n2       6750.0    135000.0   ...                 NaN   train\n3      29686.5    312682.5   ...                 NaN   train\n4      21865.5    513000.0   ...                 NaN   train\n\n[5 rows x 123 columns]",
            "text/html": "<div>\n<style scoped>\n    .dataframe tbody tr th:only-of-type {\n        vertical-align: middle;\n    }\n\n    .dataframe tbody tr th {\n        vertical-align: top;\n    }\n\n    .dataframe thead th {\n        text-align: right;\n    }\n</style>\n<table border=\"1\" class=\"dataframe\">\n  <thead>\n    <tr style=\"text-align: right;\">\n      <th></th>\n      <th>AMT_ANNUITY</th>\n      <th>AMT_CREDIT</th>\n      <th>AMT_GOODS_PRICE</th>\n      <th>AMT_INCOME_TOTAL</th>\n      <th>AMT_REQ_CREDIT_BUREAU_DAY</th>\n      <th>AMT_REQ_CREDIT_BUREAU_HOUR</th>\n      <th>AMT_REQ_CREDIT_BUREAU_MON</th>\n      <th>AMT_REQ_CREDIT_BUREAU_QRT</th>\n      <th>AMT_REQ_CREDIT_BUREAU_WEEK</th>\n      <th>AMT_REQ_CREDIT_BUREAU_YEAR</th>\n      <th>APARTMENTS_AVG</th>\n      <th>APARTMENTS_MEDI</th>\n      <th>APARTMENTS_MODE</th>\n      <th>BASEMENTAREA_AVG</th>\n      <th>BASEMENTAREA_MEDI</th>\n      <th>BASEMENTAREA_MODE</th>\n      <th>CNT_CHILDREN</th>\n      <th>CNT_FAM_MEMBERS</th>\n      <th>CODE_GENDER</th>\n      <th>COMMONAREA_AVG</th>\n      <th>COMMONAREA_MEDI</th>\n      <th>COMMONAREA_MODE</th>\n      <th>DAYS_BIRTH</th>\n      <th>DAYS_EMPLOYED</th>\n      <th>DAYS_ID_PUBLISH</th>\n      <th>DAYS_LAST_PHONE_CHANGE</th>\n      <th>DAYS_REGISTRATION</th>\n      <th>DEF_30_CNT_SOCIAL_CIRCLE</th>\n      <th>DEF_60_CNT_SOCIAL_CIRCLE</th>\n      <th>ELEVATORS_AVG</th>\n      <th>ELEVATORS_MEDI</th>\n      <th>ELEVATORS_MODE</th>\n      <th>EMERGENCYSTATE_MODE</th>\n      <th>ENTRANCES_AVG</th>\n      <th>ENTRANCES_MEDI</th>\n      <th>ENTRANCES_MODE</th>\n      <th>EXT_SOURCE_1</th>\n      <th>EXT_SOURCE_2</th>\n      <th>EXT_SOURCE_3</th>\n      <th>FLAG_CONT_MOBILE</th>\n      <th>...</th>\n      <th>LIVINGAPARTMENTS_MODE</th>\n      <th>LIVINGAREA_AVG</th>\n      <th>LIVINGAREA_MEDI</th>\n      <th>LIVINGAREA_MODE</th>\n      <th>NAME_CONTRACT_TYPE</th>\n      <th>NAME_EDUCATION_TYPE</th>\n      <th>NAME_FAMILY_STATUS</th>\n      <th>NAME_HOUSING_TYPE</th>\n      <th>NAME_INCOME_TYPE</th>\n      <th>NAME_TYPE_SUITE</th>\n      <th>NONLIVINGAPARTMENTS_AVG</th>\n      <th>NONLIVINGAPARTMENTS_MEDI</th>\n      <th>NONLIVINGAPARTMENTS_MODE</th>\n      <th>NONLIVINGAREA_AVG</th>\n      <th>NONLIVINGAREA_MEDI</th>\n      <th>NONLIVINGAREA_MODE</th>\n      <th>OBS_30_CNT_SOCIAL_CIRCLE</th>\n      <th>OBS_60_CNT_SOCIAL_CIRCLE</th>\n      <th>OCCUPATION_TYPE</th>\n      <th>ORGANIZATION_TYPE</th>\n      <th>OWN_CAR_AGE</th>\n      <th>REGION_POPULATION_RELATIVE</th>\n      <th>REGION_RATING_CLIENT</th>\n      <th>REGION_RATING_CLIENT_W_CITY</th>\n      <th>REG_CITY_NOT_LIVE_CITY</th>\n      <th>REG_CITY_NOT_WORK_CITY</th>\n      <th>REG_REGION_NOT_LIVE_REGION</th>\n      <th>REG_REGION_NOT_WORK_REGION</th>\n      <th>SK_ID_CURR</th>\n      <th>TARGET</th>\n      <th>TOTALAREA_MODE</th>\n      <th>WALLSMATERIAL_MODE</th>\n      <th>WEEKDAY_APPR_PROCESS_START</th>\n      <th>YEARS_BEGINEXPLUATATION_AVG</th>\n      <th>YEARS_BEGINEXPLUATATION_MEDI</th>\n      <th>YEARS_BEGINEXPLUATATION_MODE</th>\n      <th>YEARS_BUILD_AVG</th>\n      <th>YEARS_BUILD_MEDI</th>\n      <th>YEARS_BUILD_MODE</th>\n      <th>source</th>\n    </tr>\n  </thead>\n  <tbody>\n    <tr>\n      <th>0</th>\n      <td>24700.5</td>\n      <td>406597.5</td>\n      <td>351000.0</td>\n      <td>202500.0</td>\n      <td>0.0</td>\n      <td>0.0</td>\n      <td>0.0</td>\n      <td>0.0</td>\n      <td>0.0</td>\n      <td>1.0</td>\n      <td>0.0247</td>\n      <td>0.0250</td>\n      <td>0.0252</td>\n      <td>0.0369</td>\n      <td>0.0369</td>\n      <td>0.0383</td>\n      <td>0</td>\n      <td>1.0</td>\n      <td>M</td>\n      <td>0.0143</td>\n      <td>0.0144</td>\n      <td>0.0144</td>\n      <td>-9461</td>\n      <td>-637</td>\n      <td>-2120</td>\n      <td>-1134.0</td>\n      <td>-3648.0</td>\n      <td>2.0</td>\n      <td>2.0</td>\n      <td>0.00</td>\n      <td>0.00</td>\n      <td>0.0000</td>\n      <td>No</td>\n      <td>0.0690</td>\n      <td>0.0690</td>\n      <td>0.0690</td>\n      <td>0.083037</td>\n      <td>0.262949</td>\n      <td>0.139376</td>\n      <td>1</td>\n      <td>...</td>\n      <td>0.022</td>\n      <td>0.0190</td>\n      <td>0.0193</td>\n      <td>0.0198</td>\n      <td>Cash loans</td>\n      <td>Secondary / secondary special</td>\n      <td>Single / not married</td>\n      <td>House / apartment</td>\n      <td>Working</td>\n      <td>Unaccompanied</td>\n      <td>0.0000</td>\n      <td>0.0000</td>\n      <td>0.0</td>\n      <td>0.0000</td>\n      <td>0.00</td>\n      <td>0.0</td>\n      <td>2.0</td>\n      <td>2.0</td>\n      <td>Laborers</td>\n      <td>Business Entity Type 3</td>\n      <td>NaN</td>\n      <td>0.018801</td>\n      <td>2</td>\n      <td>2</td>\n      <td>0</td>\n      <td>0</td>\n      <td>0</td>\n      <td>0</td>\n      <td>100002</td>\n      <td>1.0</td>\n      <td>0.0149</td>\n      <td>Stone, brick</td>\n      <td>WEDNESDAY</td>\n      <td>0.9722</td>\n      <td>0.9722</td>\n      <td>0.9722</td>\n      <td>0.6192</td>\n      <td>0.6243</td>\n      <td>0.6341</td>\n      <td>train</td>\n    </tr>\n    <tr>\n      <th>1</th>\n      <td>35698.5</td>\n      <td>1293502.5</td>\n      <td>1129500.0</td>\n      <td>270000.0</td>\n      <td>0.0</td>\n      <td>0.0</td>\n      <td>0.0</td>\n      <td>0.0</td>\n      <td>0.0</td>\n      <td>0.0</td>\n      <td>0.0959</td>\n      <td>0.0968</td>\n      <td>0.0924</td>\n      <td>0.0529</td>\n      <td>0.0529</td>\n      <td>0.0538</td>\n      <td>0</td>\n      <td>2.0</td>\n      <td>F</td>\n      <td>0.0605</td>\n      <td>0.0608</td>\n      <td>0.0497</td>\n      <td>-16765</td>\n      <td>-1188</td>\n      <td>-291</td>\n      <td>-828.0</td>\n      <td>-1186.0</td>\n      <td>0.0</td>\n      <td>0.0</td>\n      <td>0.08</td>\n      <td>0.08</td>\n      <td>0.0806</td>\n      <td>No</td>\n      <td>0.0345</td>\n      <td>0.0345</td>\n      <td>0.0345</td>\n      <td>0.311267</td>\n      <td>0.622246</td>\n      <td>NaN</td>\n      <td>1</td>\n      <td>...</td>\n      <td>0.079</td>\n      <td>0.0549</td>\n      <td>0.0558</td>\n      <td>0.0554</td>\n      <td>Cash loans</td>\n      <td>Higher education</td>\n      <td>Married</td>\n      <td>House / apartment</td>\n      <td>State servant</td>\n      <td>Family</td>\n      <td>0.0039</td>\n      <td>0.0039</td>\n      <td>0.0</td>\n      <td>0.0098</td>\n      <td>0.01</td>\n      <td>0.0</td>\n      <td>1.0</td>\n      <td>1.0</td>\n      <td>Core staff</td>\n      <td>School</td>\n      <td>NaN</td>\n      <td>0.003541</td>\n      <td>1</td>\n      <td>1</td>\n      <td>0</td>\n      <td>0</td>\n      <td>0</td>\n      <td>0</td>\n      <td>100003</td>\n      <td>0.0</td>\n      <td>0.0714</td>\n      <td>Block</td>\n      <td>MONDAY</td>\n      <td>0.9851</td>\n      <td>0.9851</td>\n      <td>0.9851</td>\n      <td>0.7960</td>\n      <td>0.7987</td>\n      <td>0.8040</td>\n      <td>train</td>\n    </tr>\n    <tr>\n      <th>2</th>\n      <td>6750.0</td>\n      <td>135000.0</td>\n      <td>135000.0</td>\n      <td>67500.0</td>\n      <td>0.0</td>\n      <td>0.0</td>\n      <td>0.0</td>\n      <td>0.0</td>\n      <td>0.0</td>\n      <td>0.0</td>\n      <td>NaN</td>\n      <td>NaN</td>\n      <td>NaN</td>\n      <td>NaN</td>\n      <td>NaN</td>\n      <td>NaN</td>\n      <td>0</td>\n      <td>1.0</td>\n      <td>M</td>\n      <td>NaN</td>\n      <td>NaN</td>\n      <td>NaN</td>\n      <td>-19046</td>\n      <td>-225</td>\n      <td>-2531</td>\n      <td>-815.0</td>\n      <td>-4260.0</td>\n      <td>0.0</td>\n      <td>0.0</td>\n      <td>NaN</td>\n      <td>NaN</td>\n      <td>NaN</td>\n      <td>NaN</td>\n      <td>NaN</td>\n      <td>NaN</td>\n      <td>NaN</td>\n      <td>NaN</td>\n      <td>0.555912</td>\n      <td>0.729567</td>\n      <td>1</td>\n      <td>...</td>\n      <td>NaN</td>\n      <td>NaN</td>\n      <td>NaN</td>\n      <td>NaN</td>\n      <td>Revolving loans</td>\n      <td>Secondary / secondary special</td>\n      <td>Single / not married</td>\n      <td>House / apartment</td>\n      <td>Working</td>\n      <td>Unaccompanied</td>\n      <td>NaN</td>\n      <td>NaN</td>\n      <td>NaN</td>\n      <td>NaN</td>\n      <td>NaN</td>\n      <td>NaN</td>\n      <td>0.0</td>\n      <td>0.0</td>\n      <td>Laborers</td>\n      <td>Government</td>\n      <td>26.0</td>\n      <td>0.010032</td>\n      <td>2</td>\n      <td>2</td>\n      <td>0</td>\n      <td>0</td>\n      <td>0</td>\n      <td>0</td>\n      <td>100004</td>\n      <td>0.0</td>\n      <td>NaN</td>\n      <td>NaN</td>\n      <td>MONDAY</td>\n      <td>NaN</td>\n      <td>NaN</td>\n      <td>NaN</td>\n      <td>NaN</td>\n      <td>NaN</td>\n      <td>NaN</td>\n      <td>train</td>\n    </tr>\n    <tr>\n      <th>3</th>\n      <td>29686.5</td>\n      <td>312682.5</td>\n      <td>297000.0</td>\n      <td>135000.0</td>\n      <td>NaN</td>\n      <td>NaN</td>\n      <td>NaN</td>\n      <td>NaN</td>\n      <td>NaN</td>\n      <td>NaN</td>\n      <td>NaN</td>\n      <td>NaN</td>\n      <td>NaN</td>\n      <td>NaN</td>\n      <td>NaN</td>\n      <td>NaN</td>\n      <td>0</td>\n      <td>2.0</td>\n      <td>F</td>\n      <td>NaN</td>\n      <td>NaN</td>\n      <td>NaN</td>\n      <td>-19005</td>\n      <td>-3039</td>\n      <td>-2437</td>\n      <td>-617.0</td>\n      <td>-9833.0</td>\n      <td>0.0</td>\n      <td>0.0</td>\n      <td>NaN</td>\n      <td>NaN</td>\n      <td>NaN</td>\n      <td>NaN</td>\n      <td>NaN</td>\n      <td>NaN</td>\n      <td>NaN</td>\n      <td>NaN</td>\n      <td>0.650442</td>\n      <td>NaN</td>\n      <td>1</td>\n      <td>...</td>\n      <td>NaN</td>\n      <td>NaN</td>\n      <td>NaN</td>\n      <td>NaN</td>\n      <td>Cash loans</td>\n      <td>Secondary / secondary special</td>\n      <td>Civil marriage</td>\n      <td>House / apartment</td>\n      <td>Working</td>\n      <td>Unaccompanied</td>\n      <td>NaN</td>\n      <td>NaN</td>\n      <td>NaN</td>\n      <td>NaN</td>\n      <td>NaN</td>\n      <td>NaN</td>\n      <td>2.0</td>\n      <td>2.0</td>\n      <td>Laborers</td>\n      <td>Business Entity Type 3</td>\n      <td>NaN</td>\n      <td>0.008019</td>\n      <td>2</td>\n      <td>2</td>\n      <td>0</td>\n      <td>0</td>\n      <td>0</td>\n      <td>0</td>\n      <td>100006</td>\n      <td>0.0</td>\n      <td>NaN</td>\n      <td>NaN</td>\n      <td>WEDNESDAY</td>\n      <td>NaN</td>\n      <td>NaN</td>\n      <td>NaN</td>\n      <td>NaN</td>\n      <td>NaN</td>\n      <td>NaN</td>\n      <td>train</td>\n    </tr>\n    <tr>\n      <th>4</th>\n      <td>21865.5</td>\n      <td>513000.0</td>\n      <td>513000.0</td>\n      <td>121500.0</td>\n      <td>0.0</td>\n      <td>0.0</td>\n      <td>0.0</td>\n      <td>0.0</td>\n      <td>0.0</td>\n      <td>0.0</td>\n      <td>NaN</td>\n      <td>NaN</td>\n      <td>NaN</td>\n      <td>NaN</td>\n      <td>NaN</td>\n      <td>NaN</td>\n      <td>0</td>\n      <td>1.0</td>\n      <td>M</td>\n      <td>NaN</td>\n      <td>NaN</td>\n      <td>NaN</td>\n      <td>-19932</td>\n      <td>-3038</td>\n      <td>-3458</td>\n      <td>-1106.0</td>\n      <td>-4311.0</td>\n      <td>0.0</td>\n      <td>0.0</td>\n      <td>NaN</td>\n      <td>NaN</td>\n      <td>NaN</td>\n      <td>NaN</td>\n      <td>NaN</td>\n      <td>NaN</td>\n      <td>NaN</td>\n      <td>NaN</td>\n      <td>0.322738</td>\n      <td>NaN</td>\n      <td>1</td>\n      <td>...</td>\n      <td>NaN</td>\n      <td>NaN</td>\n      <td>NaN</td>\n      <td>NaN</td>\n      <td>Cash loans</td>\n      <td>Secondary / secondary special</td>\n      <td>Single / not married</td>\n      <td>House / apartment</td>\n      <td>Working</td>\n      <td>Unaccompanied</td>\n      <td>NaN</td>\n      <td>NaN</td>\n      <td>NaN</td>\n      <td>NaN</td>\n      <td>NaN</td>\n      <td>NaN</td>\n      <td>0.0</td>\n      <td>0.0</td>\n      <td>Core staff</td>\n      <td>Religion</td>\n      <td>NaN</td>\n      <td>0.028663</td>\n      <td>2</td>\n      <td>2</td>\n      <td>0</td>\n      <td>1</td>\n      <td>0</td>\n      <td>0</td>\n      <td>100007</td>\n      <td>0.0</td>\n      <td>NaN</td>\n      <td>NaN</td>\n      <td>THURSDAY</td>\n      <td>NaN</td>\n      <td>NaN</td>\n      <td>NaN</td>\n      <td>NaN</td>\n      <td>NaN</td>\n      <td>NaN</td>\n      <td>train</td>\n    </tr>\n  </tbody>\n</table>\n</div>"
          },
          "metadata": {}
        }
      ]
    },
    {
      "metadata": {
        "_uuid": "4b6f09bc570a9e668e63493c3ee2d3a35166f298"
      },
      "cell_type": "markdown",
      "source": " 2) Find columns with a lot of missing data and remove some of them"
    },
    {
      "metadata": {
        "trusted": true,
        "scrolled": true,
        "_uuid": "6cae4ca27f611476e0b9e8ac06f1067c1e4ecc17"
      },
      "cell_type": "code",
      "source": "missing_cols_prcnt = application_train.isnull().sum()/application_train.shape[0] * 100\nhigh_missing_values = missing_cols_prcnt[missing_cols_prcnt > 50]\nhigh_missing_values_index = high_missing_values.index.tolist()\nhigh_missing_values[:5]",
      "execution_count": 6,
      "outputs": [
        {
          "output_type": "execute_result",
          "execution_count": 6,
          "data": {
            "text/plain": "OWN_CAR_AGE         65.990810\nEXT_SOURCE_1        56.381073\nAPARTMENTS_AVG      50.749729\nBASEMENTAREA_AVG    58.515956\nYEARS_BUILD_AVG     66.497784\ndtype: float64"
          },
          "metadata": {}
        }
      ]
    },
    {
      "metadata": {
        "trusted": true,
        "_uuid": "d5f3d59ab7cde300f7696222d859eb09f673fc9c"
      },
      "cell_type": "code",
      "source": "correlations = application_train.corr()['TARGET'].sort_values()\ncorr_missing_cols = correlations.reindex(high_missing_values_index).sort_values()\nmissing_cols_to_be_dropped = corr_missing_cols.index.difference(corr_missing_cols[(corr_missing_cols > 0.02) | (corr_missing_cols < -0.02)].index).tolist()\nlen(missing_cols_to_be_dropped)",
      "execution_count": 7,
      "outputs": [
        {
          "output_type": "execute_result",
          "execution_count": 7,
          "data": {
            "text/plain": "19"
          },
          "metadata": {}
        }
      ]
    },
    {
      "metadata": {
        "trusted": true,
        "_uuid": "30a1402c3d317dad4bb822d7487c39c1d7027c8b"
      },
      "cell_type": "code",
      "source": "missing_cols_to_be_dropped",
      "execution_count": 8,
      "outputs": [
        {
          "output_type": "execute_result",
          "execution_count": 8,
          "data": {
            "text/plain": "['BASEMENTAREA_MODE',\n 'COMMONAREA_AVG',\n 'COMMONAREA_MEDI',\n 'COMMONAREA_MODE',\n 'ENTRANCES_AVG',\n 'ENTRANCES_MEDI',\n 'ENTRANCES_MODE',\n 'FONDKAPREMONT_MODE',\n 'HOUSETYPE_MODE',\n 'LANDAREA_AVG',\n 'LANDAREA_MEDI',\n 'LANDAREA_MODE',\n 'NONLIVINGAPARTMENTS_AVG',\n 'NONLIVINGAPARTMENTS_MEDI',\n 'NONLIVINGAPARTMENTS_MODE',\n 'NONLIVINGAREA_AVG',\n 'NONLIVINGAREA_MEDI',\n 'NONLIVINGAREA_MODE',\n 'WALLSMATERIAL_MODE']"
          },
          "metadata": {}
        }
      ]
    },
    {
      "metadata": {
        "trusted": true,
        "_uuid": "4b97d7b107846157262b91e88587368d1660515e"
      },
      "cell_type": "code",
      "source": "application = application.drop(missing_cols_to_be_dropped, axis=1)\napplication.shape",
      "execution_count": 9,
      "outputs": [
        {
          "output_type": "execute_result",
          "execution_count": 9,
          "data": {
            "text/plain": "(356255, 104)"
          },
          "metadata": {}
        }
      ]
    },
    {
      "metadata": {
        "_uuid": "b7ad48335ff0c316ae3b073c90489c4ce338388f"
      },
      "cell_type": "markdown",
      "source": "3) Separate numerical and categorical data"
    },
    {
      "metadata": {
        "trusted": true,
        "_uuid": "376e820a97ef030efe41b46370484dc2e3a483c6"
      },
      "cell_type": "code",
      "source": "#Make sure 'TARGET' and 'Source' are excluded\ncategorical_vars = [f for f in application.columns if f!='TARGET' and f!='source' and application[f].dtype==\"object\"]\ncategorical_vars",
      "execution_count": 10,
      "outputs": [
        {
          "output_type": "execute_result",
          "execution_count": 10,
          "data": {
            "text/plain": "['CODE_GENDER',\n 'EMERGENCYSTATE_MODE',\n 'FLAG_OWN_CAR',\n 'FLAG_OWN_REALTY',\n 'NAME_CONTRACT_TYPE',\n 'NAME_EDUCATION_TYPE',\n 'NAME_FAMILY_STATUS',\n 'NAME_HOUSING_TYPE',\n 'NAME_INCOME_TYPE',\n 'NAME_TYPE_SUITE',\n 'OCCUPATION_TYPE',\n 'ORGANIZATION_TYPE',\n 'WEEKDAY_APPR_PROCESS_START']"
          },
          "metadata": {}
        }
      ]
    },
    {
      "metadata": {
        "trusted": true,
        "_uuid": "ff1402003bdd5568a903fbdd74e94763748d60d7"
      },
      "cell_type": "code",
      "source": "application[categorical_vars].head()",
      "execution_count": 11,
      "outputs": [
        {
          "output_type": "execute_result",
          "execution_count": 11,
          "data": {
            "text/plain": "  CODE_GENDER            ...             WEEKDAY_APPR_PROCESS_START\n0           M            ...                              WEDNESDAY\n1           F            ...                                 MONDAY\n2           M            ...                                 MONDAY\n3           F            ...                              WEDNESDAY\n4           M            ...                               THURSDAY\n\n[5 rows x 13 columns]",
            "text/html": "<div>\n<style scoped>\n    .dataframe tbody tr th:only-of-type {\n        vertical-align: middle;\n    }\n\n    .dataframe tbody tr th {\n        vertical-align: top;\n    }\n\n    .dataframe thead th {\n        text-align: right;\n    }\n</style>\n<table border=\"1\" class=\"dataframe\">\n  <thead>\n    <tr style=\"text-align: right;\">\n      <th></th>\n      <th>CODE_GENDER</th>\n      <th>EMERGENCYSTATE_MODE</th>\n      <th>FLAG_OWN_CAR</th>\n      <th>FLAG_OWN_REALTY</th>\n      <th>NAME_CONTRACT_TYPE</th>\n      <th>NAME_EDUCATION_TYPE</th>\n      <th>NAME_FAMILY_STATUS</th>\n      <th>NAME_HOUSING_TYPE</th>\n      <th>NAME_INCOME_TYPE</th>\n      <th>NAME_TYPE_SUITE</th>\n      <th>OCCUPATION_TYPE</th>\n      <th>ORGANIZATION_TYPE</th>\n      <th>WEEKDAY_APPR_PROCESS_START</th>\n    </tr>\n  </thead>\n  <tbody>\n    <tr>\n      <th>0</th>\n      <td>M</td>\n      <td>No</td>\n      <td>N</td>\n      <td>Y</td>\n      <td>Cash loans</td>\n      <td>Secondary / secondary special</td>\n      <td>Single / not married</td>\n      <td>House / apartment</td>\n      <td>Working</td>\n      <td>Unaccompanied</td>\n      <td>Laborers</td>\n      <td>Business Entity Type 3</td>\n      <td>WEDNESDAY</td>\n    </tr>\n    <tr>\n      <th>1</th>\n      <td>F</td>\n      <td>No</td>\n      <td>N</td>\n      <td>N</td>\n      <td>Cash loans</td>\n      <td>Higher education</td>\n      <td>Married</td>\n      <td>House / apartment</td>\n      <td>State servant</td>\n      <td>Family</td>\n      <td>Core staff</td>\n      <td>School</td>\n      <td>MONDAY</td>\n    </tr>\n    <tr>\n      <th>2</th>\n      <td>M</td>\n      <td>NaN</td>\n      <td>Y</td>\n      <td>Y</td>\n      <td>Revolving loans</td>\n      <td>Secondary / secondary special</td>\n      <td>Single / not married</td>\n      <td>House / apartment</td>\n      <td>Working</td>\n      <td>Unaccompanied</td>\n      <td>Laborers</td>\n      <td>Government</td>\n      <td>MONDAY</td>\n    </tr>\n    <tr>\n      <th>3</th>\n      <td>F</td>\n      <td>NaN</td>\n      <td>N</td>\n      <td>Y</td>\n      <td>Cash loans</td>\n      <td>Secondary / secondary special</td>\n      <td>Civil marriage</td>\n      <td>House / apartment</td>\n      <td>Working</td>\n      <td>Unaccompanied</td>\n      <td>Laborers</td>\n      <td>Business Entity Type 3</td>\n      <td>WEDNESDAY</td>\n    </tr>\n    <tr>\n      <th>4</th>\n      <td>M</td>\n      <td>NaN</td>\n      <td>N</td>\n      <td>Y</td>\n      <td>Cash loans</td>\n      <td>Secondary / secondary special</td>\n      <td>Single / not married</td>\n      <td>House / apartment</td>\n      <td>Working</td>\n      <td>Unaccompanied</td>\n      <td>Core staff</td>\n      <td>Religion</td>\n      <td>THURSDAY</td>\n    </tr>\n  </tbody>\n</table>\n</div>"
          },
          "metadata": {}
        }
      ]
    },
    {
      "metadata": {
        "trusted": true,
        "scrolled": true,
        "_uuid": "2ddd1d9de0d431cb97dcd317906e918d9bd22810"
      },
      "cell_type": "code",
      "source": "#Check once more that all numerical columns are indeed continuous and not discrete\nnumerical_vars = [f for f in application.columns if f!='TARGET' and f!='source' and application[f].dtype!=\"object\"]\nnumerical_vars",
      "execution_count": 12,
      "outputs": [
        {
          "output_type": "execute_result",
          "execution_count": 12,
          "data": {
            "text/plain": "['AMT_ANNUITY',\n 'AMT_CREDIT',\n 'AMT_GOODS_PRICE',\n 'AMT_INCOME_TOTAL',\n 'AMT_REQ_CREDIT_BUREAU_DAY',\n 'AMT_REQ_CREDIT_BUREAU_HOUR',\n 'AMT_REQ_CREDIT_BUREAU_MON',\n 'AMT_REQ_CREDIT_BUREAU_QRT',\n 'AMT_REQ_CREDIT_BUREAU_WEEK',\n 'AMT_REQ_CREDIT_BUREAU_YEAR',\n 'APARTMENTS_AVG',\n 'APARTMENTS_MEDI',\n 'APARTMENTS_MODE',\n 'BASEMENTAREA_AVG',\n 'BASEMENTAREA_MEDI',\n 'CNT_CHILDREN',\n 'CNT_FAM_MEMBERS',\n 'DAYS_BIRTH',\n 'DAYS_EMPLOYED',\n 'DAYS_ID_PUBLISH',\n 'DAYS_LAST_PHONE_CHANGE',\n 'DAYS_REGISTRATION',\n 'DEF_30_CNT_SOCIAL_CIRCLE',\n 'DEF_60_CNT_SOCIAL_CIRCLE',\n 'ELEVATORS_AVG',\n 'ELEVATORS_MEDI',\n 'ELEVATORS_MODE',\n 'EXT_SOURCE_1',\n 'EXT_SOURCE_2',\n 'EXT_SOURCE_3',\n 'FLAG_CONT_MOBILE',\n 'FLAG_DOCUMENT_10',\n 'FLAG_DOCUMENT_11',\n 'FLAG_DOCUMENT_12',\n 'FLAG_DOCUMENT_13',\n 'FLAG_DOCUMENT_14',\n 'FLAG_DOCUMENT_15',\n 'FLAG_DOCUMENT_16',\n 'FLAG_DOCUMENT_17',\n 'FLAG_DOCUMENT_18',\n 'FLAG_DOCUMENT_19',\n 'FLAG_DOCUMENT_2',\n 'FLAG_DOCUMENT_20',\n 'FLAG_DOCUMENT_21',\n 'FLAG_DOCUMENT_3',\n 'FLAG_DOCUMENT_4',\n 'FLAG_DOCUMENT_5',\n 'FLAG_DOCUMENT_6',\n 'FLAG_DOCUMENT_7',\n 'FLAG_DOCUMENT_8',\n 'FLAG_DOCUMENT_9',\n 'FLAG_EMAIL',\n 'FLAG_EMP_PHONE',\n 'FLAG_MOBIL',\n 'FLAG_PHONE',\n 'FLAG_WORK_PHONE',\n 'FLOORSMAX_AVG',\n 'FLOORSMAX_MEDI',\n 'FLOORSMAX_MODE',\n 'FLOORSMIN_AVG',\n 'FLOORSMIN_MEDI',\n 'FLOORSMIN_MODE',\n 'HOUR_APPR_PROCESS_START',\n 'LIVE_CITY_NOT_WORK_CITY',\n 'LIVE_REGION_NOT_WORK_REGION',\n 'LIVINGAPARTMENTS_AVG',\n 'LIVINGAPARTMENTS_MEDI',\n 'LIVINGAPARTMENTS_MODE',\n 'LIVINGAREA_AVG',\n 'LIVINGAREA_MEDI',\n 'LIVINGAREA_MODE',\n 'OBS_30_CNT_SOCIAL_CIRCLE',\n 'OBS_60_CNT_SOCIAL_CIRCLE',\n 'OWN_CAR_AGE',\n 'REGION_POPULATION_RELATIVE',\n 'REGION_RATING_CLIENT',\n 'REGION_RATING_CLIENT_W_CITY',\n 'REG_CITY_NOT_LIVE_CITY',\n 'REG_CITY_NOT_WORK_CITY',\n 'REG_REGION_NOT_LIVE_REGION',\n 'REG_REGION_NOT_WORK_REGION',\n 'SK_ID_CURR',\n 'TOTALAREA_MODE',\n 'YEARS_BEGINEXPLUATATION_AVG',\n 'YEARS_BEGINEXPLUATATION_MEDI',\n 'YEARS_BEGINEXPLUATATION_MODE',\n 'YEARS_BUILD_AVG',\n 'YEARS_BUILD_MEDI',\n 'YEARS_BUILD_MODE']"
          },
          "metadata": {}
        }
      ]
    },
    {
      "metadata": {
        "_uuid": "c34f8baa58faef3bbc028101db5e5626e3f3c4d0"
      },
      "cell_type": "markdown",
      "source": "4) DAYS_EMPLOYED discrepancy"
    },
    {
      "metadata": {
        "trusted": true,
        "_uuid": "9341d571d2354fdde3e5ae1f4d467cf506634cbd"
      },
      "cell_type": "code",
      "source": "application[\"DAYS_EMPLOYED_ANOMALY\"] = 0\napplication[\"DAYS_EMPLOYED_ANOMALY\"].loc[application[application[\"DAYS_EMPLOYED\"] > 0][\"DAYS_EMPLOYED\"].index] = 1\napplication[\"DAYS_EMPLOYED\"].loc[application[application[\"DAYS_EMPLOYED\"] > 0][\"DAYS_EMPLOYED\"].index] = 0\napplication[[\"DAYS_EMPLOYED\", \"DAYS_EMPLOYED_ANOMALY\"]].head()",
      "execution_count": 13,
      "outputs": [
        {
          "output_type": "stream",
          "text": "/opt/conda/lib/python3.6/site-packages/pandas/core/indexing.py:189: SettingWithCopyWarning: \nA value is trying to be set on a copy of a slice from a DataFrame\n\nSee the caveats in the documentation: http://pandas.pydata.org/pandas-docs/stable/indexing.html#indexing-view-versus-copy\n  self._setitem_with_indexer(indexer, value)\n",
          "name": "stderr"
        },
        {
          "output_type": "execute_result",
          "execution_count": 13,
          "data": {
            "text/plain": "   DAYS_EMPLOYED  DAYS_EMPLOYED_ANOMALY\n0           -637                      0\n1          -1188                      0\n2           -225                      0\n3          -3039                      0\n4          -3038                      0",
            "text/html": "<div>\n<style scoped>\n    .dataframe tbody tr th:only-of-type {\n        vertical-align: middle;\n    }\n\n    .dataframe tbody tr th {\n        vertical-align: top;\n    }\n\n    .dataframe thead th {\n        text-align: right;\n    }\n</style>\n<table border=\"1\" class=\"dataframe\">\n  <thead>\n    <tr style=\"text-align: right;\">\n      <th></th>\n      <th>DAYS_EMPLOYED</th>\n      <th>DAYS_EMPLOYED_ANOMALY</th>\n    </tr>\n  </thead>\n  <tbody>\n    <tr>\n      <th>0</th>\n      <td>-637</td>\n      <td>0</td>\n    </tr>\n    <tr>\n      <th>1</th>\n      <td>-1188</td>\n      <td>0</td>\n    </tr>\n    <tr>\n      <th>2</th>\n      <td>-225</td>\n      <td>0</td>\n    </tr>\n    <tr>\n      <th>3</th>\n      <td>-3039</td>\n      <td>0</td>\n    </tr>\n    <tr>\n      <th>4</th>\n      <td>-3038</td>\n      <td>0</td>\n    </tr>\n  </tbody>\n</table>\n</div>"
          },
          "metadata": {}
        }
      ]
    },
    {
      "metadata": {
        "_uuid": "fb04486b0bf9d37f700ace989b5acfc43e7d4ade"
      },
      "cell_type": "markdown",
      "source": "5) XNA represents null in categiorical cols"
    },
    {
      "metadata": {
        "trusted": true,
        "_uuid": "197b4c1d5863a07a8ef722f1573b99b4d7c3184e"
      },
      "cell_type": "code",
      "source": "xna_cols = []\nfor c in categorical_vars:\n    if application[c][application[c]=='XNA'].shape[0] > 0:\n        xna_cols.append(c)\n        \nfor c in xna_cols:\n    application[c] = application[c].replace('XNA', np.nan)",
      "execution_count": 14,
      "outputs": []
    },
    {
      "metadata": {
        "_uuid": "ffa595dfb5b17ff85a4b123b6179ba2f3f7949c6"
      },
      "cell_type": "markdown",
      "source": "6)Amt credit missing values imputation"
    },
    {
      "metadata": {
        "trusted": true,
        "_uuid": "6ad2d431b5cb362d81600c0d805db2090caabab5"
      },
      "cell_type": "code",
      "source": "application[[\"AMT_CREDIT\", \"AMT_GOODS_PRICE\"]].describe()",
      "execution_count": 15,
      "outputs": [
        {
          "output_type": "execute_result",
          "execution_count": 15,
          "data": {
            "text/plain": "         AMT_CREDIT  AMT_GOODS_PRICE\ncount  3.562550e+05     3.559770e+05\nmean   5.877674e+05     5.280200e+05\nstd    3.986237e+05     3.660650e+05\nmin    4.500000e+04     4.050000e+04\n25%    2.700000e+05     2.340000e+05\n50%    5.002110e+05     4.500000e+05\n75%    7.975575e+05     6.750000e+05\nmax    4.050000e+06     4.050000e+06",
            "text/html": "<div>\n<style scoped>\n    .dataframe tbody tr th:only-of-type {\n        vertical-align: middle;\n    }\n\n    .dataframe tbody tr th {\n        vertical-align: top;\n    }\n\n    .dataframe thead th {\n        text-align: right;\n    }\n</style>\n<table border=\"1\" class=\"dataframe\">\n  <thead>\n    <tr style=\"text-align: right;\">\n      <th></th>\n      <th>AMT_CREDIT</th>\n      <th>AMT_GOODS_PRICE</th>\n    </tr>\n  </thead>\n  <tbody>\n    <tr>\n      <th>count</th>\n      <td>3.562550e+05</td>\n      <td>3.559770e+05</td>\n    </tr>\n    <tr>\n      <th>mean</th>\n      <td>5.877674e+05</td>\n      <td>5.280200e+05</td>\n    </tr>\n    <tr>\n      <th>std</th>\n      <td>3.986237e+05</td>\n      <td>3.660650e+05</td>\n    </tr>\n    <tr>\n      <th>min</th>\n      <td>4.500000e+04</td>\n      <td>4.050000e+04</td>\n    </tr>\n    <tr>\n      <th>25%</th>\n      <td>2.700000e+05</td>\n      <td>2.340000e+05</td>\n    </tr>\n    <tr>\n      <th>50%</th>\n      <td>5.002110e+05</td>\n      <td>4.500000e+05</td>\n    </tr>\n    <tr>\n      <th>75%</th>\n      <td>7.975575e+05</td>\n      <td>6.750000e+05</td>\n    </tr>\n    <tr>\n      <th>max</th>\n      <td>4.050000e+06</td>\n      <td>4.050000e+06</td>\n    </tr>\n  </tbody>\n</table>\n</div>"
          },
          "metadata": {}
        }
      ]
    },
    {
      "metadata": {
        "trusted": true,
        "_uuid": "252501d4be64be1696e8527f098f7af0673770d3"
      },
      "cell_type": "code",
      "source": "application[[\"AMT_CREDIT\", \"AMT_GOODS_PRICE\"]].isnull().sum()",
      "execution_count": 16,
      "outputs": [
        {
          "output_type": "execute_result",
          "execution_count": 16,
          "data": {
            "text/plain": "AMT_CREDIT           0\nAMT_GOODS_PRICE    278\ndtype: int64"
          },
          "metadata": {}
        }
      ]
    },
    {
      "metadata": {
        "trusted": true,
        "_uuid": "bf486c611f360065575ae17e5a7d2d20d0de4783"
      },
      "cell_type": "code",
      "source": "missing_goods_price_indices = application[application[\"AMT_GOODS_PRICE\"].isnull()].index\nnorm_factor = np.mean(application[\"AMT_GOODS_PRICE\"])/np.mean(application[\"AMT_CREDIT\"])",
      "execution_count": 17,
      "outputs": []
    },
    {
      "metadata": {
        "trusted": true,
        "_uuid": "b571646745c5ae651181fe4aa6fb5a3073253bed"
      },
      "cell_type": "code",
      "source": "#Replacing the missing values of AMT_GOODS_PRICE\napplication.loc[missing_goods_price_indices, \"AMT_GOODS_PRICE\"] = application.loc[missing_goods_price_indices, \"AMT_CREDIT\"] * norm_factor",
      "execution_count": 18,
      "outputs": []
    },
    {
      "metadata": {
        "trusted": true,
        "_uuid": "ef1178d389ac3a47175a622033357cf42caf2a2f"
      },
      "cell_type": "code",
      "source": "application[[\"AMT_CREDIT\", \"AMT_GOODS_PRICE\"]].isnull().sum()",
      "execution_count": 19,
      "outputs": [
        {
          "output_type": "execute_result",
          "execution_count": 19,
          "data": {
            "text/plain": "AMT_CREDIT         0\nAMT_GOODS_PRICE    0\ndtype: int64"
          },
          "metadata": {}
        }
      ]
    },
    {
      "metadata": {
        "_uuid": "5d2b0753b72926bc55c2184add31df925b8cf6ff"
      },
      "cell_type": "markdown",
      "source": "7) For other numerical columns impute missing values by median(including ext_source_3)"
    },
    {
      "metadata": {
        "trusted": true,
        "_uuid": "bdb89eff1ef56ad87aa020048b8a2e2cd0fddc01"
      },
      "cell_type": "code",
      "source": "numeric_cols_with_missing_vals = application[numerical_vars].isnull().sum()[application[numerical_vars].isnull().sum() > 0].index.tolist()\ncategorical_cols_with_missing_vals = application[categorical_vars].isnull().sum()[application[categorical_vars].isnull().sum() > 0].index.tolist()",
      "execution_count": 20,
      "outputs": []
    },
    {
      "metadata": {
        "trusted": true,
        "scrolled": false,
        "_uuid": "0ab518e08872e4a1cc00f0af040abc236761c6f2"
      },
      "cell_type": "code",
      "source": "numeric_cols_with_missing_vals[:5]",
      "execution_count": 21,
      "outputs": [
        {
          "output_type": "execute_result",
          "execution_count": 21,
          "data": {
            "text/plain": "['AMT_ANNUITY',\n 'AMT_REQ_CREDIT_BUREAU_DAY',\n 'AMT_REQ_CREDIT_BUREAU_HOUR',\n 'AMT_REQ_CREDIT_BUREAU_MON',\n 'AMT_REQ_CREDIT_BUREAU_QRT']"
          },
          "metadata": {}
        }
      ]
    },
    {
      "metadata": {
        "trusted": true,
        "_uuid": "4594d811da20e017a4ac60378b726ee447fdfa56"
      },
      "cell_type": "code",
      "source": "#np.median(application[\"AMT_ANNUITY\"].dropna())\nfor f in numeric_cols_with_missing_vals:\n    application[f] = application[f].replace(np.nan, np.median(application[f].dropna()))",
      "execution_count": 22,
      "outputs": []
    },
    {
      "metadata": {
        "trusted": true,
        "scrolled": true,
        "_uuid": "226f8048c27d567bdddd47b7cb8f570d5a718dc2"
      },
      "cell_type": "code",
      "source": "application[numerical_vars].isnull().sum()[application[numerical_vars].isnull().sum() > 0]",
      "execution_count": 23,
      "outputs": [
        {
          "output_type": "execute_result",
          "execution_count": 23,
          "data": {
            "text/plain": "Series([], dtype: int64)"
          },
          "metadata": {}
        }
      ]
    },
    {
      "metadata": {
        "_uuid": "caf9055ba4213288cb5c304a5cdf8899d73bc382"
      },
      "cell_type": "markdown",
      "source": "8) For categorical columns, impute missing values by mode"
    },
    {
      "metadata": {
        "trusted": true,
        "_uuid": "dc56e2583db9e0b9047f5420152b7dfe35ea6d68"
      },
      "cell_type": "code",
      "source": "categorical_cols_with_missing_vals",
      "execution_count": 24,
      "outputs": [
        {
          "output_type": "execute_result",
          "execution_count": 24,
          "data": {
            "text/plain": "['CODE_GENDER',\n 'EMERGENCYSTATE_MODE',\n 'NAME_TYPE_SUITE',\n 'OCCUPATION_TYPE',\n 'ORGANIZATION_TYPE']"
          },
          "metadata": {}
        }
      ]
    },
    {
      "metadata": {
        "trusted": true,
        "_uuid": "7428ee65409429074f6b65996605ef4e3093e80f"
      },
      "cell_type": "code",
      "source": "# application[\"CODE_GENDER\"].value_counts().idxmax()\nfor f in categorical_cols_with_missing_vals:\n    max_count = application[f].value_counts().idxmax()\n    application[f] = application[f].fillna(max_count)",
      "execution_count": 25,
      "outputs": []
    },
    {
      "metadata": {
        "trusted": true,
        "_uuid": "179b1f718c61b3979e64d63b9ac56caa3c8f95f5"
      },
      "cell_type": "code",
      "source": "application[categorical_vars].isnull().sum()[application[categorical_vars].isnull().sum() > 0]",
      "execution_count": 26,
      "outputs": [
        {
          "output_type": "execute_result",
          "execution_count": 26,
          "data": {
            "text/plain": "Series([], dtype: int64)"
          },
          "metadata": {}
        }
      ]
    },
    {
      "metadata": {
        "_uuid": "51f6c3f2c0b4a0fb35441ae6bb7c7d19e5bd1989"
      },
      "cell_type": "markdown",
      "source": "9) If possible add the domain specific columns as mentioned in other kernels"
    },
    {
      "metadata": {
        "trusted": true,
        "_uuid": "6f9487180037c9eaff383f6edad8cec384c87814"
      },
      "cell_type": "code",
      "source": "application['CREDIT_INCOME_PERCENT'] = application['AMT_CREDIT'] / application['AMT_INCOME_TOTAL']\napplication['ANNUITY_INCOME_PERCENT'] = application['AMT_ANNUITY'] / application['AMT_INCOME_TOTAL']\napplication['CREDIT_TERM'] = application['AMT_ANNUITY'] / application['AMT_CREDIT']\napplication['DAYS_EMPLOYED_PERCENT'] = application['DAYS_EMPLOYED'] / application['DAYS_BIRTH']",
      "execution_count": 27,
      "outputs": []
    },
    {
      "metadata": {
        "_uuid": "ea65966286b0ff29137be10eaa7f2ddb4300a108"
      },
      "cell_type": "markdown",
      "source": "10) One hot encoding of categorical variables"
    },
    {
      "metadata": {
        "trusted": true,
        "_uuid": "3b2f1460030083036ebb0eb66aa3a6ca55c4ce6b"
      },
      "cell_type": "code",
      "source": "# dummies = pd.get_dummies(train_test.loc[:, dummy_colnames])\n# train_test = pd.concat([train_test, dummies], axis=1)\n\ndummies = pd.get_dummies(application[categorical_vars])\napplication = pd.concat([application, dummies], axis=1)\napplication = application.drop(categorical_vars, axis=1)\napplication.shape",
      "execution_count": 28,
      "outputs": [
        {
          "output_type": "execute_result",
          "execution_count": 28,
          "data": {
            "text/plain": "(356255, 220)"
          },
          "metadata": {}
        }
      ]
    },
    {
      "metadata": {
        "trusted": true,
        "scrolled": true,
        "_uuid": "8405710149cce948a670926d4948a3a27d6aa719"
      },
      "cell_type": "code",
      "source": "application.head()",
      "execution_count": 29,
      "outputs": [
        {
          "output_type": "execute_result",
          "execution_count": 29,
          "data": {
            "text/plain": "   AMT_ANNUITY                  ...                   WEEKDAY_APPR_PROCESS_START_WEDNESDAY\n0      24700.5                  ...                                                      1\n1      35698.5                  ...                                                      0\n2       6750.0                  ...                                                      0\n3      29686.5                  ...                                                      1\n4      21865.5                  ...                                                      0\n\n[5 rows x 220 columns]",
            "text/html": "<div>\n<style scoped>\n    .dataframe tbody tr th:only-of-type {\n        vertical-align: middle;\n    }\n\n    .dataframe tbody tr th {\n        vertical-align: top;\n    }\n\n    .dataframe thead th {\n        text-align: right;\n    }\n</style>\n<table border=\"1\" class=\"dataframe\">\n  <thead>\n    <tr style=\"text-align: right;\">\n      <th></th>\n      <th>AMT_ANNUITY</th>\n      <th>AMT_CREDIT</th>\n      <th>AMT_GOODS_PRICE</th>\n      <th>AMT_INCOME_TOTAL</th>\n      <th>AMT_REQ_CREDIT_BUREAU_DAY</th>\n      <th>AMT_REQ_CREDIT_BUREAU_HOUR</th>\n      <th>AMT_REQ_CREDIT_BUREAU_MON</th>\n      <th>AMT_REQ_CREDIT_BUREAU_QRT</th>\n      <th>AMT_REQ_CREDIT_BUREAU_WEEK</th>\n      <th>AMT_REQ_CREDIT_BUREAU_YEAR</th>\n      <th>APARTMENTS_AVG</th>\n      <th>APARTMENTS_MEDI</th>\n      <th>APARTMENTS_MODE</th>\n      <th>BASEMENTAREA_AVG</th>\n      <th>BASEMENTAREA_MEDI</th>\n      <th>CNT_CHILDREN</th>\n      <th>CNT_FAM_MEMBERS</th>\n      <th>DAYS_BIRTH</th>\n      <th>DAYS_EMPLOYED</th>\n      <th>DAYS_ID_PUBLISH</th>\n      <th>DAYS_LAST_PHONE_CHANGE</th>\n      <th>DAYS_REGISTRATION</th>\n      <th>DEF_30_CNT_SOCIAL_CIRCLE</th>\n      <th>DEF_60_CNT_SOCIAL_CIRCLE</th>\n      <th>ELEVATORS_AVG</th>\n      <th>ELEVATORS_MEDI</th>\n      <th>ELEVATORS_MODE</th>\n      <th>EXT_SOURCE_1</th>\n      <th>EXT_SOURCE_2</th>\n      <th>EXT_SOURCE_3</th>\n      <th>FLAG_CONT_MOBILE</th>\n      <th>FLAG_DOCUMENT_10</th>\n      <th>FLAG_DOCUMENT_11</th>\n      <th>FLAG_DOCUMENT_12</th>\n      <th>FLAG_DOCUMENT_13</th>\n      <th>FLAG_DOCUMENT_14</th>\n      <th>FLAG_DOCUMENT_15</th>\n      <th>FLAG_DOCUMENT_16</th>\n      <th>FLAG_DOCUMENT_17</th>\n      <th>FLAG_DOCUMENT_18</th>\n      <th>...</th>\n      <th>ORGANIZATION_TYPE_Industry: type 7</th>\n      <th>ORGANIZATION_TYPE_Industry: type 8</th>\n      <th>ORGANIZATION_TYPE_Industry: type 9</th>\n      <th>ORGANIZATION_TYPE_Insurance</th>\n      <th>ORGANIZATION_TYPE_Kindergarten</th>\n      <th>ORGANIZATION_TYPE_Legal Services</th>\n      <th>ORGANIZATION_TYPE_Medicine</th>\n      <th>ORGANIZATION_TYPE_Military</th>\n      <th>ORGANIZATION_TYPE_Mobile</th>\n      <th>ORGANIZATION_TYPE_Other</th>\n      <th>ORGANIZATION_TYPE_Police</th>\n      <th>ORGANIZATION_TYPE_Postal</th>\n      <th>ORGANIZATION_TYPE_Realtor</th>\n      <th>ORGANIZATION_TYPE_Religion</th>\n      <th>ORGANIZATION_TYPE_Restaurant</th>\n      <th>ORGANIZATION_TYPE_School</th>\n      <th>ORGANIZATION_TYPE_Security</th>\n      <th>ORGANIZATION_TYPE_Security Ministries</th>\n      <th>ORGANIZATION_TYPE_Self-employed</th>\n      <th>ORGANIZATION_TYPE_Services</th>\n      <th>ORGANIZATION_TYPE_Telecom</th>\n      <th>ORGANIZATION_TYPE_Trade: type 1</th>\n      <th>ORGANIZATION_TYPE_Trade: type 2</th>\n      <th>ORGANIZATION_TYPE_Trade: type 3</th>\n      <th>ORGANIZATION_TYPE_Trade: type 4</th>\n      <th>ORGANIZATION_TYPE_Trade: type 5</th>\n      <th>ORGANIZATION_TYPE_Trade: type 6</th>\n      <th>ORGANIZATION_TYPE_Trade: type 7</th>\n      <th>ORGANIZATION_TYPE_Transport: type 1</th>\n      <th>ORGANIZATION_TYPE_Transport: type 2</th>\n      <th>ORGANIZATION_TYPE_Transport: type 3</th>\n      <th>ORGANIZATION_TYPE_Transport: type 4</th>\n      <th>ORGANIZATION_TYPE_University</th>\n      <th>WEEKDAY_APPR_PROCESS_START_FRIDAY</th>\n      <th>WEEKDAY_APPR_PROCESS_START_MONDAY</th>\n      <th>WEEKDAY_APPR_PROCESS_START_SATURDAY</th>\n      <th>WEEKDAY_APPR_PROCESS_START_SUNDAY</th>\n      <th>WEEKDAY_APPR_PROCESS_START_THURSDAY</th>\n      <th>WEEKDAY_APPR_PROCESS_START_TUESDAY</th>\n      <th>WEEKDAY_APPR_PROCESS_START_WEDNESDAY</th>\n    </tr>\n  </thead>\n  <tbody>\n    <tr>\n      <th>0</th>\n      <td>24700.5</td>\n      <td>406597.5</td>\n      <td>351000.0</td>\n      <td>202500.0</td>\n      <td>0.0</td>\n      <td>0.0</td>\n      <td>0.0</td>\n      <td>0.0</td>\n      <td>0.0</td>\n      <td>1.0</td>\n      <td>0.0247</td>\n      <td>0.0250</td>\n      <td>0.0252</td>\n      <td>0.0369</td>\n      <td>0.0369</td>\n      <td>0</td>\n      <td>1.0</td>\n      <td>-9461</td>\n      <td>-637</td>\n      <td>-2120</td>\n      <td>-1134.0</td>\n      <td>-3648.0</td>\n      <td>2.0</td>\n      <td>2.0</td>\n      <td>0.00</td>\n      <td>0.00</td>\n      <td>0.0000</td>\n      <td>0.083037</td>\n      <td>0.262949</td>\n      <td>0.139376</td>\n      <td>1</td>\n      <td>0</td>\n      <td>0</td>\n      <td>0</td>\n      <td>0</td>\n      <td>0</td>\n      <td>0</td>\n      <td>0</td>\n      <td>0</td>\n      <td>0</td>\n      <td>...</td>\n      <td>0</td>\n      <td>0</td>\n      <td>0</td>\n      <td>0</td>\n      <td>0</td>\n      <td>0</td>\n      <td>0</td>\n      <td>0</td>\n      <td>0</td>\n      <td>0</td>\n      <td>0</td>\n      <td>0</td>\n      <td>0</td>\n      <td>0</td>\n      <td>0</td>\n      <td>0</td>\n      <td>0</td>\n      <td>0</td>\n      <td>0</td>\n      <td>0</td>\n      <td>0</td>\n      <td>0</td>\n      <td>0</td>\n      <td>0</td>\n      <td>0</td>\n      <td>0</td>\n      <td>0</td>\n      <td>0</td>\n      <td>0</td>\n      <td>0</td>\n      <td>0</td>\n      <td>0</td>\n      <td>0</td>\n      <td>0</td>\n      <td>0</td>\n      <td>0</td>\n      <td>0</td>\n      <td>0</td>\n      <td>0</td>\n      <td>1</td>\n    </tr>\n    <tr>\n      <th>1</th>\n      <td>35698.5</td>\n      <td>1293502.5</td>\n      <td>1129500.0</td>\n      <td>270000.0</td>\n      <td>0.0</td>\n      <td>0.0</td>\n      <td>0.0</td>\n      <td>0.0</td>\n      <td>0.0</td>\n      <td>0.0</td>\n      <td>0.0959</td>\n      <td>0.0968</td>\n      <td>0.0924</td>\n      <td>0.0529</td>\n      <td>0.0529</td>\n      <td>0</td>\n      <td>2.0</td>\n      <td>-16765</td>\n      <td>-1188</td>\n      <td>-291</td>\n      <td>-828.0</td>\n      <td>-1186.0</td>\n      <td>0.0</td>\n      <td>0.0</td>\n      <td>0.08</td>\n      <td>0.08</td>\n      <td>0.0806</td>\n      <td>0.311267</td>\n      <td>0.622246</td>\n      <td>0.533482</td>\n      <td>1</td>\n      <td>0</td>\n      <td>0</td>\n      <td>0</td>\n      <td>0</td>\n      <td>0</td>\n      <td>0</td>\n      <td>0</td>\n      <td>0</td>\n      <td>0</td>\n      <td>...</td>\n      <td>0</td>\n      <td>0</td>\n      <td>0</td>\n      <td>0</td>\n      <td>0</td>\n      <td>0</td>\n      <td>0</td>\n      <td>0</td>\n      <td>0</td>\n      <td>0</td>\n      <td>0</td>\n      <td>0</td>\n      <td>0</td>\n      <td>0</td>\n      <td>0</td>\n      <td>1</td>\n      <td>0</td>\n      <td>0</td>\n      <td>0</td>\n      <td>0</td>\n      <td>0</td>\n      <td>0</td>\n      <td>0</td>\n      <td>0</td>\n      <td>0</td>\n      <td>0</td>\n      <td>0</td>\n      <td>0</td>\n      <td>0</td>\n      <td>0</td>\n      <td>0</td>\n      <td>0</td>\n      <td>0</td>\n      <td>0</td>\n      <td>1</td>\n      <td>0</td>\n      <td>0</td>\n      <td>0</td>\n      <td>0</td>\n      <td>0</td>\n    </tr>\n    <tr>\n      <th>2</th>\n      <td>6750.0</td>\n      <td>135000.0</td>\n      <td>135000.0</td>\n      <td>67500.0</td>\n      <td>0.0</td>\n      <td>0.0</td>\n      <td>0.0</td>\n      <td>0.0</td>\n      <td>0.0</td>\n      <td>0.0</td>\n      <td>0.0880</td>\n      <td>0.0874</td>\n      <td>0.0840</td>\n      <td>0.0765</td>\n      <td>0.0761</td>\n      <td>0</td>\n      <td>1.0</td>\n      <td>-19046</td>\n      <td>-225</td>\n      <td>-2531</td>\n      <td>-815.0</td>\n      <td>-4260.0</td>\n      <td>0.0</td>\n      <td>0.0</td>\n      <td>0.00</td>\n      <td>0.00</td>\n      <td>0.0000</td>\n      <td>0.506155</td>\n      <td>0.555912</td>\n      <td>0.729567</td>\n      <td>1</td>\n      <td>0</td>\n      <td>0</td>\n      <td>0</td>\n      <td>0</td>\n      <td>0</td>\n      <td>0</td>\n      <td>0</td>\n      <td>0</td>\n      <td>0</td>\n      <td>...</td>\n      <td>0</td>\n      <td>0</td>\n      <td>0</td>\n      <td>0</td>\n      <td>0</td>\n      <td>0</td>\n      <td>0</td>\n      <td>0</td>\n      <td>0</td>\n      <td>0</td>\n      <td>0</td>\n      <td>0</td>\n      <td>0</td>\n      <td>0</td>\n      <td>0</td>\n      <td>0</td>\n      <td>0</td>\n      <td>0</td>\n      <td>0</td>\n      <td>0</td>\n      <td>0</td>\n      <td>0</td>\n      <td>0</td>\n      <td>0</td>\n      <td>0</td>\n      <td>0</td>\n      <td>0</td>\n      <td>0</td>\n      <td>0</td>\n      <td>0</td>\n      <td>0</td>\n      <td>0</td>\n      <td>0</td>\n      <td>0</td>\n      <td>1</td>\n      <td>0</td>\n      <td>0</td>\n      <td>0</td>\n      <td>0</td>\n      <td>0</td>\n    </tr>\n    <tr>\n      <th>3</th>\n      <td>29686.5</td>\n      <td>312682.5</td>\n      <td>297000.0</td>\n      <td>135000.0</td>\n      <td>0.0</td>\n      <td>0.0</td>\n      <td>0.0</td>\n      <td>0.0</td>\n      <td>0.0</td>\n      <td>1.0</td>\n      <td>0.0880</td>\n      <td>0.0874</td>\n      <td>0.0840</td>\n      <td>0.0765</td>\n      <td>0.0761</td>\n      <td>0</td>\n      <td>2.0</td>\n      <td>-19005</td>\n      <td>-3039</td>\n      <td>-2437</td>\n      <td>-617.0</td>\n      <td>-9833.0</td>\n      <td>0.0</td>\n      <td>0.0</td>\n      <td>0.00</td>\n      <td>0.00</td>\n      <td>0.0000</td>\n      <td>0.506155</td>\n      <td>0.650442</td>\n      <td>0.533482</td>\n      <td>1</td>\n      <td>0</td>\n      <td>0</td>\n      <td>0</td>\n      <td>0</td>\n      <td>0</td>\n      <td>0</td>\n      <td>0</td>\n      <td>0</td>\n      <td>0</td>\n      <td>...</td>\n      <td>0</td>\n      <td>0</td>\n      <td>0</td>\n      <td>0</td>\n      <td>0</td>\n      <td>0</td>\n      <td>0</td>\n      <td>0</td>\n      <td>0</td>\n      <td>0</td>\n      <td>0</td>\n      <td>0</td>\n      <td>0</td>\n      <td>0</td>\n      <td>0</td>\n      <td>0</td>\n      <td>0</td>\n      <td>0</td>\n      <td>0</td>\n      <td>0</td>\n      <td>0</td>\n      <td>0</td>\n      <td>0</td>\n      <td>0</td>\n      <td>0</td>\n      <td>0</td>\n      <td>0</td>\n      <td>0</td>\n      <td>0</td>\n      <td>0</td>\n      <td>0</td>\n      <td>0</td>\n      <td>0</td>\n      <td>0</td>\n      <td>0</td>\n      <td>0</td>\n      <td>0</td>\n      <td>0</td>\n      <td>0</td>\n      <td>1</td>\n    </tr>\n    <tr>\n      <th>4</th>\n      <td>21865.5</td>\n      <td>513000.0</td>\n      <td>513000.0</td>\n      <td>121500.0</td>\n      <td>0.0</td>\n      <td>0.0</td>\n      <td>0.0</td>\n      <td>0.0</td>\n      <td>0.0</td>\n      <td>0.0</td>\n      <td>0.0880</td>\n      <td>0.0874</td>\n      <td>0.0840</td>\n      <td>0.0765</td>\n      <td>0.0761</td>\n      <td>0</td>\n      <td>1.0</td>\n      <td>-19932</td>\n      <td>-3038</td>\n      <td>-3458</td>\n      <td>-1106.0</td>\n      <td>-4311.0</td>\n      <td>0.0</td>\n      <td>0.0</td>\n      <td>0.00</td>\n      <td>0.00</td>\n      <td>0.0000</td>\n      <td>0.506155</td>\n      <td>0.322738</td>\n      <td>0.533482</td>\n      <td>1</td>\n      <td>0</td>\n      <td>0</td>\n      <td>0</td>\n      <td>0</td>\n      <td>0</td>\n      <td>0</td>\n      <td>0</td>\n      <td>0</td>\n      <td>0</td>\n      <td>...</td>\n      <td>0</td>\n      <td>0</td>\n      <td>0</td>\n      <td>0</td>\n      <td>0</td>\n      <td>0</td>\n      <td>0</td>\n      <td>0</td>\n      <td>0</td>\n      <td>0</td>\n      <td>0</td>\n      <td>0</td>\n      <td>0</td>\n      <td>1</td>\n      <td>0</td>\n      <td>0</td>\n      <td>0</td>\n      <td>0</td>\n      <td>0</td>\n      <td>0</td>\n      <td>0</td>\n      <td>0</td>\n      <td>0</td>\n      <td>0</td>\n      <td>0</td>\n      <td>0</td>\n      <td>0</td>\n      <td>0</td>\n      <td>0</td>\n      <td>0</td>\n      <td>0</td>\n      <td>0</td>\n      <td>0</td>\n      <td>0</td>\n      <td>0</td>\n      <td>0</td>\n      <td>0</td>\n      <td>1</td>\n      <td>0</td>\n      <td>0</td>\n    </tr>\n  </tbody>\n</table>\n</div>"
          },
          "metadata": {}
        }
      ]
    },
    {
      "metadata": {
        "trusted": true,
        "scrolled": true,
        "_uuid": "c942d4f26f4c2417272c5ebf227ec2d1cfe9cefb"
      },
      "cell_type": "code",
      "source": "application[application.TARGET == 0].shape[0]/ application[application.TARGET == 1].shape[0]",
      "execution_count": 30,
      "outputs": [
        {
          "output_type": "execute_result",
          "execution_count": 30,
          "data": {
            "text/plain": "11.387150050352467"
          },
          "metadata": {}
        }
      ]
    },
    {
      "metadata": {
        "_uuid": "5e7dbfd234376561226c16933960dc20bb5a9ff8"
      },
      "cell_type": "markdown",
      "source": "11) Imbalanced classes"
    },
    {
      "metadata": {
        "trusted": true,
        "_uuid": "8dc7b379ca5194af18c401deeb55995328c48f9b"
      },
      "cell_type": "code",
      "source": "train = application[application[\"source\"] == 'train']\ntest = application[application[\"source\"] == 'test']",
      "execution_count": 31,
      "outputs": []
    },
    {
      "metadata": {
        "trusted": true,
        "_uuid": "657da36bf8d650ea12998b6ee280d8816f8858a3"
      },
      "cell_type": "code",
      "source": "X_train = train.drop([\"source\", \"TARGET\"], axis=1)\nY_train = train[\"TARGET\"]\nX_test = test.drop([\"source\", \"TARGET\"], axis=1)",
      "execution_count": 32,
      "outputs": []
    },
    {
      "metadata": {
        "trusted": true,
        "_uuid": "e114725d864dbf8feb4350fcd86c867476ed5bc7"
      },
      "cell_type": "code",
      "source": "X_test.shape, X_train.shape",
      "execution_count": 33,
      "outputs": [
        {
          "output_type": "execute_result",
          "execution_count": 33,
          "data": {
            "text/plain": "((48744, 218), (307511, 218))"
          },
          "metadata": {}
        }
      ]
    },
    {
      "metadata": {
        "trusted": true,
        "_uuid": "9fea527eaae542b3b044e2cdf453de95e51a8df4"
      },
      "cell_type": "code",
      "source": "default_index = np.array(train[train.TARGET == 1].index)\nrepaid_index = np.array(train[train.TARGET == 0].index)\nrepaid_permuted_index = np.random.permutation(repaid_index)[:default_index.shape[0]*3]\n\nbalanced_indices = np.concatenate((repaid_permuted_index, default_index))\nbalanced_permuted_indices = np.random.permutation(balanced_indices)\n\nbalanced_permuted_indices\nY_balanced = train.TARGET[balanced_permuted_indices].values\nX_balanced_data = train.iloc[balanced_permuted_indices, :].drop(['TARGET', 'source'], axis=1)",
      "execution_count": 34,
      "outputs": []
    },
    {
      "metadata": {
        "trusted": true,
        "scrolled": true,
        "_uuid": "9ea55bb877bf6ae94e41ce9cf94065b00ff54b19"
      },
      "cell_type": "code",
      "source": "X_balanced_data.head()",
      "execution_count": 35,
      "outputs": [
        {
          "output_type": "execute_result",
          "execution_count": 35,
          "data": {
            "text/plain": "        AMT_ANNUITY                  ...                   WEEKDAY_APPR_PROCESS_START_WEDNESDAY\n143519      19435.5                  ...                                                      0\n65794       29047.5                  ...                                                      0\n35008       72607.5                  ...                                                      0\n115769       8757.0                  ...                                                      0\n218735      26217.0                  ...                                                      0\n\n[5 rows x 218 columns]",
            "text/html": "<div>\n<style scoped>\n    .dataframe tbody tr th:only-of-type {\n        vertical-align: middle;\n    }\n\n    .dataframe tbody tr th {\n        vertical-align: top;\n    }\n\n    .dataframe thead th {\n        text-align: right;\n    }\n</style>\n<table border=\"1\" class=\"dataframe\">\n  <thead>\n    <tr style=\"text-align: right;\">\n      <th></th>\n      <th>AMT_ANNUITY</th>\n      <th>AMT_CREDIT</th>\n      <th>AMT_GOODS_PRICE</th>\n      <th>AMT_INCOME_TOTAL</th>\n      <th>AMT_REQ_CREDIT_BUREAU_DAY</th>\n      <th>AMT_REQ_CREDIT_BUREAU_HOUR</th>\n      <th>AMT_REQ_CREDIT_BUREAU_MON</th>\n      <th>AMT_REQ_CREDIT_BUREAU_QRT</th>\n      <th>AMT_REQ_CREDIT_BUREAU_WEEK</th>\n      <th>AMT_REQ_CREDIT_BUREAU_YEAR</th>\n      <th>APARTMENTS_AVG</th>\n      <th>APARTMENTS_MEDI</th>\n      <th>APARTMENTS_MODE</th>\n      <th>BASEMENTAREA_AVG</th>\n      <th>BASEMENTAREA_MEDI</th>\n      <th>CNT_CHILDREN</th>\n      <th>CNT_FAM_MEMBERS</th>\n      <th>DAYS_BIRTH</th>\n      <th>DAYS_EMPLOYED</th>\n      <th>DAYS_ID_PUBLISH</th>\n      <th>DAYS_LAST_PHONE_CHANGE</th>\n      <th>DAYS_REGISTRATION</th>\n      <th>DEF_30_CNT_SOCIAL_CIRCLE</th>\n      <th>DEF_60_CNT_SOCIAL_CIRCLE</th>\n      <th>ELEVATORS_AVG</th>\n      <th>ELEVATORS_MEDI</th>\n      <th>ELEVATORS_MODE</th>\n      <th>EXT_SOURCE_1</th>\n      <th>EXT_SOURCE_2</th>\n      <th>EXT_SOURCE_3</th>\n      <th>FLAG_CONT_MOBILE</th>\n      <th>FLAG_DOCUMENT_10</th>\n      <th>FLAG_DOCUMENT_11</th>\n      <th>FLAG_DOCUMENT_12</th>\n      <th>FLAG_DOCUMENT_13</th>\n      <th>FLAG_DOCUMENT_14</th>\n      <th>FLAG_DOCUMENT_15</th>\n      <th>FLAG_DOCUMENT_16</th>\n      <th>FLAG_DOCUMENT_17</th>\n      <th>FLAG_DOCUMENT_18</th>\n      <th>...</th>\n      <th>ORGANIZATION_TYPE_Industry: type 7</th>\n      <th>ORGANIZATION_TYPE_Industry: type 8</th>\n      <th>ORGANIZATION_TYPE_Industry: type 9</th>\n      <th>ORGANIZATION_TYPE_Insurance</th>\n      <th>ORGANIZATION_TYPE_Kindergarten</th>\n      <th>ORGANIZATION_TYPE_Legal Services</th>\n      <th>ORGANIZATION_TYPE_Medicine</th>\n      <th>ORGANIZATION_TYPE_Military</th>\n      <th>ORGANIZATION_TYPE_Mobile</th>\n      <th>ORGANIZATION_TYPE_Other</th>\n      <th>ORGANIZATION_TYPE_Police</th>\n      <th>ORGANIZATION_TYPE_Postal</th>\n      <th>ORGANIZATION_TYPE_Realtor</th>\n      <th>ORGANIZATION_TYPE_Religion</th>\n      <th>ORGANIZATION_TYPE_Restaurant</th>\n      <th>ORGANIZATION_TYPE_School</th>\n      <th>ORGANIZATION_TYPE_Security</th>\n      <th>ORGANIZATION_TYPE_Security Ministries</th>\n      <th>ORGANIZATION_TYPE_Self-employed</th>\n      <th>ORGANIZATION_TYPE_Services</th>\n      <th>ORGANIZATION_TYPE_Telecom</th>\n      <th>ORGANIZATION_TYPE_Trade: type 1</th>\n      <th>ORGANIZATION_TYPE_Trade: type 2</th>\n      <th>ORGANIZATION_TYPE_Trade: type 3</th>\n      <th>ORGANIZATION_TYPE_Trade: type 4</th>\n      <th>ORGANIZATION_TYPE_Trade: type 5</th>\n      <th>ORGANIZATION_TYPE_Trade: type 6</th>\n      <th>ORGANIZATION_TYPE_Trade: type 7</th>\n      <th>ORGANIZATION_TYPE_Transport: type 1</th>\n      <th>ORGANIZATION_TYPE_Transport: type 2</th>\n      <th>ORGANIZATION_TYPE_Transport: type 3</th>\n      <th>ORGANIZATION_TYPE_Transport: type 4</th>\n      <th>ORGANIZATION_TYPE_University</th>\n      <th>WEEKDAY_APPR_PROCESS_START_FRIDAY</th>\n      <th>WEEKDAY_APPR_PROCESS_START_MONDAY</th>\n      <th>WEEKDAY_APPR_PROCESS_START_SATURDAY</th>\n      <th>WEEKDAY_APPR_PROCESS_START_SUNDAY</th>\n      <th>WEEKDAY_APPR_PROCESS_START_THURSDAY</th>\n      <th>WEEKDAY_APPR_PROCESS_START_TUESDAY</th>\n      <th>WEEKDAY_APPR_PROCESS_START_WEDNESDAY</th>\n    </tr>\n  </thead>\n  <tbody>\n    <tr>\n      <th>143519</th>\n      <td>19435.5</td>\n      <td>288873.0</td>\n      <td>238500.0</td>\n      <td>135000.0</td>\n      <td>0.0</td>\n      <td>0.0</td>\n      <td>0.0</td>\n      <td>0.0</td>\n      <td>0.0</td>\n      <td>1.0</td>\n      <td>0.088</td>\n      <td>0.0874</td>\n      <td>0.084</td>\n      <td>0.0765</td>\n      <td>0.0761</td>\n      <td>1</td>\n      <td>3.0</td>\n      <td>-12912</td>\n      <td>-137</td>\n      <td>-4762</td>\n      <td>-1671.0</td>\n      <td>-2129.0</td>\n      <td>0.0</td>\n      <td>0.0</td>\n      <td>0.0</td>\n      <td>0.0</td>\n      <td>0.0</td>\n      <td>0.506155</td>\n      <td>0.449491</td>\n      <td>0.533482</td>\n      <td>1</td>\n      <td>0</td>\n      <td>0</td>\n      <td>0</td>\n      <td>0</td>\n      <td>0</td>\n      <td>0</td>\n      <td>0</td>\n      <td>0</td>\n      <td>0</td>\n      <td>...</td>\n      <td>0</td>\n      <td>0</td>\n      <td>0</td>\n      <td>0</td>\n      <td>0</td>\n      <td>0</td>\n      <td>1</td>\n      <td>0</td>\n      <td>0</td>\n      <td>0</td>\n      <td>0</td>\n      <td>0</td>\n      <td>0</td>\n      <td>0</td>\n      <td>0</td>\n      <td>0</td>\n      <td>0</td>\n      <td>0</td>\n      <td>0</td>\n      <td>0</td>\n      <td>0</td>\n      <td>0</td>\n      <td>0</td>\n      <td>0</td>\n      <td>0</td>\n      <td>0</td>\n      <td>0</td>\n      <td>0</td>\n      <td>0</td>\n      <td>0</td>\n      <td>0</td>\n      <td>0</td>\n      <td>0</td>\n      <td>0</td>\n      <td>0</td>\n      <td>0</td>\n      <td>0</td>\n      <td>1</td>\n      <td>0</td>\n      <td>0</td>\n    </tr>\n    <tr>\n      <th>65794</th>\n      <td>29047.5</td>\n      <td>787086.0</td>\n      <td>657000.0</td>\n      <td>157500.0</td>\n      <td>0.0</td>\n      <td>0.0</td>\n      <td>0.0</td>\n      <td>0.0</td>\n      <td>0.0</td>\n      <td>6.0</td>\n      <td>0.088</td>\n      <td>0.0874</td>\n      <td>0.084</td>\n      <td>0.0765</td>\n      <td>0.0761</td>\n      <td>0</td>\n      <td>1.0</td>\n      <td>-13870</td>\n      <td>-1726</td>\n      <td>-4504</td>\n      <td>-1280.0</td>\n      <td>-3253.0</td>\n      <td>0.0</td>\n      <td>0.0</td>\n      <td>0.0</td>\n      <td>0.0</td>\n      <td>0.0</td>\n      <td>0.506155</td>\n      <td>0.695131</td>\n      <td>0.146442</td>\n      <td>1</td>\n      <td>0</td>\n      <td>0</td>\n      <td>0</td>\n      <td>0</td>\n      <td>0</td>\n      <td>0</td>\n      <td>0</td>\n      <td>0</td>\n      <td>0</td>\n      <td>...</td>\n      <td>0</td>\n      <td>0</td>\n      <td>0</td>\n      <td>0</td>\n      <td>0</td>\n      <td>0</td>\n      <td>0</td>\n      <td>0</td>\n      <td>0</td>\n      <td>0</td>\n      <td>0</td>\n      <td>0</td>\n      <td>0</td>\n      <td>0</td>\n      <td>0</td>\n      <td>0</td>\n      <td>0</td>\n      <td>0</td>\n      <td>0</td>\n      <td>0</td>\n      <td>0</td>\n      <td>0</td>\n      <td>0</td>\n      <td>0</td>\n      <td>0</td>\n      <td>0</td>\n      <td>0</td>\n      <td>0</td>\n      <td>0</td>\n      <td>0</td>\n      <td>0</td>\n      <td>0</td>\n      <td>0</td>\n      <td>0</td>\n      <td>0</td>\n      <td>1</td>\n      <td>0</td>\n      <td>0</td>\n      <td>0</td>\n      <td>0</td>\n    </tr>\n    <tr>\n      <th>35008</th>\n      <td>72607.5</td>\n      <td>2085120.0</td>\n      <td>1800000.0</td>\n      <td>310500.0</td>\n      <td>0.0</td>\n      <td>0.0</td>\n      <td>0.0</td>\n      <td>0.0</td>\n      <td>0.0</td>\n      <td>0.0</td>\n      <td>0.088</td>\n      <td>0.0874</td>\n      <td>0.084</td>\n      <td>0.0765</td>\n      <td>0.0761</td>\n      <td>0</td>\n      <td>1.0</td>\n      <td>-21505</td>\n      <td>-210</td>\n      <td>-3668</td>\n      <td>-1540.0</td>\n      <td>-12.0</td>\n      <td>0.0</td>\n      <td>0.0</td>\n      <td>0.0</td>\n      <td>0.0</td>\n      <td>0.0</td>\n      <td>0.509829</td>\n      <td>0.343984</td>\n      <td>0.382502</td>\n      <td>1</td>\n      <td>0</td>\n      <td>0</td>\n      <td>0</td>\n      <td>0</td>\n      <td>0</td>\n      <td>0</td>\n      <td>0</td>\n      <td>0</td>\n      <td>0</td>\n      <td>...</td>\n      <td>0</td>\n      <td>0</td>\n      <td>0</td>\n      <td>0</td>\n      <td>0</td>\n      <td>0</td>\n      <td>0</td>\n      <td>0</td>\n      <td>0</td>\n      <td>0</td>\n      <td>0</td>\n      <td>0</td>\n      <td>0</td>\n      <td>0</td>\n      <td>0</td>\n      <td>0</td>\n      <td>0</td>\n      <td>0</td>\n      <td>1</td>\n      <td>0</td>\n      <td>0</td>\n      <td>0</td>\n      <td>0</td>\n      <td>0</td>\n      <td>0</td>\n      <td>0</td>\n      <td>0</td>\n      <td>0</td>\n      <td>0</td>\n      <td>0</td>\n      <td>0</td>\n      <td>0</td>\n      <td>0</td>\n      <td>0</td>\n      <td>1</td>\n      <td>0</td>\n      <td>0</td>\n      <td>0</td>\n      <td>0</td>\n      <td>0</td>\n    </tr>\n    <tr>\n      <th>115769</th>\n      <td>8757.0</td>\n      <td>135000.0</td>\n      <td>135000.0</td>\n      <td>67500.0</td>\n      <td>0.0</td>\n      <td>0.0</td>\n      <td>0.0</td>\n      <td>0.0</td>\n      <td>0.0</td>\n      <td>1.0</td>\n      <td>0.088</td>\n      <td>0.0874</td>\n      <td>0.084</td>\n      <td>0.0765</td>\n      <td>0.0761</td>\n      <td>0</td>\n      <td>1.0</td>\n      <td>-11755</td>\n      <td>-1123</td>\n      <td>-3238</td>\n      <td>-2016.0</td>\n      <td>-5811.0</td>\n      <td>0.0</td>\n      <td>0.0</td>\n      <td>0.0</td>\n      <td>0.0</td>\n      <td>0.0</td>\n      <td>0.506155</td>\n      <td>0.285898</td>\n      <td>0.533482</td>\n      <td>1</td>\n      <td>0</td>\n      <td>0</td>\n      <td>0</td>\n      <td>0</td>\n      <td>0</td>\n      <td>0</td>\n      <td>0</td>\n      <td>0</td>\n      <td>0</td>\n      <td>...</td>\n      <td>0</td>\n      <td>0</td>\n      <td>0</td>\n      <td>0</td>\n      <td>0</td>\n      <td>0</td>\n      <td>0</td>\n      <td>0</td>\n      <td>0</td>\n      <td>0</td>\n      <td>0</td>\n      <td>0</td>\n      <td>0</td>\n      <td>0</td>\n      <td>0</td>\n      <td>0</td>\n      <td>0</td>\n      <td>0</td>\n      <td>1</td>\n      <td>0</td>\n      <td>0</td>\n      <td>0</td>\n      <td>0</td>\n      <td>0</td>\n      <td>0</td>\n      <td>0</td>\n      <td>0</td>\n      <td>0</td>\n      <td>0</td>\n      <td>0</td>\n      <td>0</td>\n      <td>0</td>\n      <td>0</td>\n      <td>0</td>\n      <td>0</td>\n      <td>1</td>\n      <td>0</td>\n      <td>0</td>\n      <td>0</td>\n      <td>0</td>\n    </tr>\n    <tr>\n      <th>218735</th>\n      <td>26217.0</td>\n      <td>808650.0</td>\n      <td>675000.0</td>\n      <td>90000.0</td>\n      <td>0.0</td>\n      <td>0.0</td>\n      <td>0.0</td>\n      <td>0.0</td>\n      <td>0.0</td>\n      <td>0.0</td>\n      <td>0.088</td>\n      <td>0.0874</td>\n      <td>0.084</td>\n      <td>0.0765</td>\n      <td>0.0761</td>\n      <td>1</td>\n      <td>3.0</td>\n      <td>-21559</td>\n      <td>0</td>\n      <td>-4628</td>\n      <td>0.0</td>\n      <td>-3182.0</td>\n      <td>0.0</td>\n      <td>0.0</td>\n      <td>0.0</td>\n      <td>0.0</td>\n      <td>0.0</td>\n      <td>0.506155</td>\n      <td>0.735407</td>\n      <td>0.544235</td>\n      <td>1</td>\n      <td>0</td>\n      <td>0</td>\n      <td>0</td>\n      <td>0</td>\n      <td>0</td>\n      <td>0</td>\n      <td>0</td>\n      <td>0</td>\n      <td>0</td>\n      <td>...</td>\n      <td>0</td>\n      <td>0</td>\n      <td>0</td>\n      <td>0</td>\n      <td>0</td>\n      <td>0</td>\n      <td>0</td>\n      <td>0</td>\n      <td>0</td>\n      <td>0</td>\n      <td>0</td>\n      <td>0</td>\n      <td>0</td>\n      <td>0</td>\n      <td>0</td>\n      <td>0</td>\n      <td>0</td>\n      <td>0</td>\n      <td>0</td>\n      <td>0</td>\n      <td>0</td>\n      <td>0</td>\n      <td>0</td>\n      <td>0</td>\n      <td>0</td>\n      <td>0</td>\n      <td>0</td>\n      <td>0</td>\n      <td>0</td>\n      <td>0</td>\n      <td>0</td>\n      <td>0</td>\n      <td>0</td>\n      <td>0</td>\n      <td>0</td>\n      <td>0</td>\n      <td>0</td>\n      <td>0</td>\n      <td>1</td>\n      <td>0</td>\n    </tr>\n  </tbody>\n</table>\n</div>"
          },
          "metadata": {}
        }
      ]
    },
    {
      "metadata": {
        "_uuid": "c92e7fae773748574134d4d5bb12040a499f1dd7"
      },
      "cell_type": "markdown",
      "source": "12) LGBM K FOLD <br>\n* Initially I tried Logistic regression, logistic regression with regularization, random forest and lgboost all on created balanced dataset.   \n* Logistic regression with regularization was nearly as good as random forest but both of these techniques were outperformed by lgboost\n* We then ran a LGBOOST model on the entire dataset to give a score of 0.766"
    },
    {
      "metadata": {
        "trusted": true,
        "_uuid": "5a28b8c5483b1fbf79a40a047911b693342ba28e"
      },
      "cell_type": "code",
      "source": "k_fold = KFold(n_splits = 5, shuffle = True, random_state = 50)\nx_train = np.array(X_train.values)\ny_train = np.array(Y_train.values)\nx_test = np.array(X_test.values)\ntest_predictions = np.zeros(x_test.shape[0])\ntrain_auc = []\nvalid_auc = []\nfor train_indices, valid_indices in k_fold.split(x_train):\n    train_data, train_target = x_train[train_indices], y_train[train_indices]\n    valid_data, valid_target = x_train[valid_indices], y_train[valid_indices]\n    clf = LGBMClassifier(\n        n_estimators=1000,\n        learning_rate=0.03,\n        num_leaves=30,\n        colsample_bytree=.8,\n        subsample=.9,\n        max_depth=7,\n        reg_alpha=.1,\n        reg_lambda=.1,\n        min_split_gain=.01,\n        min_child_weight=2,\n        silent=-1,\n        verbose=-1,\n    )\n        \n    clf.fit(train_data, train_target, \n        eval_set= [(train_data, train_target), (valid_data, valid_target)], \n        eval_names = ['train', 'valid'],\n        eval_metric='auc', verbose=100, early_stopping_rounds=100  #30\n   )\n    \n    #best_iteration = clf.best_iteration_\n    \n    valid_score = clf.best_score_['valid']['auc']\n    train_score = clf.best_score_['train']['auc']\n    valid_auc.append(valid_score)\n    train_auc.append(train_score)\n    \n    test_predictions += clf.predict_proba(x_test, num_iteration=clf.best_iteration_)[:,1]/k_fold.n_splits\n    \n    gc.enable()\n    del clf, train_data, valid_data\n    gc.disable()\n        ",
      "execution_count": 36,
      "outputs": [
        {
          "output_type": "stream",
          "text": "Training until validation scores don't improve for 100 rounds.\n[100]\ttrain's auc: 0.765628\tvalid's auc: 0.749967\n[200]\ttrain's auc: 0.784126\tvalid's auc: 0.758826\n[300]\ttrain's auc: 0.795859\tvalid's auc: 0.761739\n[400]\ttrain's auc: 0.805169\tvalid's auc: 0.762723\n[500]\ttrain's auc: 0.813458\tvalid's auc: 0.763335\n[600]\ttrain's auc: 0.821048\tvalid's auc: 0.763871\n[700]\ttrain's auc: 0.828631\tvalid's auc: 0.764265\n[800]\ttrain's auc: 0.835744\tvalid's auc: 0.764236\nEarly stopping, best iteration is:\n[720]\ttrain's auc: 0.829966\tvalid's auc: 0.764321\nTraining until validation scores don't improve for 100 rounds.\n[100]\ttrain's auc: 0.765286\tvalid's auc: 0.751578\n[200]\ttrain's auc: 0.782691\tvalid's auc: 0.76052\n[300]\ttrain's auc: 0.794726\tvalid's auc: 0.764456\n[400]\ttrain's auc: 0.804131\tvalid's auc: 0.765908\n[500]\ttrain's auc: 0.812472\tvalid's auc: 0.766313\n[600]\ttrain's auc: 0.820416\tvalid's auc: 0.767053\n[700]\ttrain's auc: 0.827635\tvalid's auc: 0.767409\nEarly stopping, best iteration is:\n[679]\ttrain's auc: 0.826232\tvalid's auc: 0.767441\nTraining until validation scores don't improve for 100 rounds.\n[100]\ttrain's auc: 0.764303\tvalid's auc: 0.756807\n[200]\ttrain's auc: 0.781839\tvalid's auc: 0.766102\n[300]\ttrain's auc: 0.793653\tvalid's auc: 0.76962\n[400]\ttrain's auc: 0.803253\tvalid's auc: 0.770858\n[500]\ttrain's auc: 0.811904\tvalid's auc: 0.771566\n[600]\ttrain's auc: 0.820096\tvalid's auc: 0.771936\n[700]\ttrain's auc: 0.827447\tvalid's auc: 0.772194\nEarly stopping, best iteration is:\n[681]\ttrain's auc: 0.82604\tvalid's auc: 0.772256\nTraining until validation scores don't improve for 100 rounds.\n[100]\ttrain's auc: 0.764766\tvalid's auc: 0.751413\n[200]\ttrain's auc: 0.782865\tvalid's auc: 0.761445\n[300]\ttrain's auc: 0.794949\tvalid's auc: 0.764569\n[400]\ttrain's auc: 0.80464\tvalid's auc: 0.765446\n[500]\ttrain's auc: 0.813383\tvalid's auc: 0.765782\n[600]\ttrain's auc: 0.821418\tvalid's auc: 0.765996\n[700]\ttrain's auc: 0.828958\tvalid's auc: 0.766288\n[800]\ttrain's auc: 0.836085\tvalid's auc: 0.766482\n[900]\ttrain's auc: 0.842684\tvalid's auc: 0.766399\nEarly stopping, best iteration is:\n[814]\ttrain's auc: 0.837132\tvalid's auc: 0.766504\nTraining until validation scores don't improve for 100 rounds.\n[100]\ttrain's auc: 0.765131\tvalid's auc: 0.750132\n[200]\ttrain's auc: 0.783018\tvalid's auc: 0.760253\n[300]\ttrain's auc: 0.794969\tvalid's auc: 0.764458\n[400]\ttrain's auc: 0.804124\tvalid's auc: 0.765644\n[500]\ttrain's auc: 0.812618\tvalid's auc: 0.765835\n[600]\ttrain's auc: 0.820322\tvalid's auc: 0.766092\n[700]\ttrain's auc: 0.827694\tvalid's auc: 0.76677\n[800]\ttrain's auc: 0.834432\tvalid's auc: 0.767279\n[900]\ttrain's auc: 0.840856\tvalid's auc: 0.767427\n[1000]\ttrain's auc: 0.847014\tvalid's auc: 0.767416\nDid not meet early stopping. Best iteration is:\n[1000]\ttrain's auc: 0.847014\tvalid's auc: 0.767416\n",
          "name": "stdout"
        }
      ]
    },
    {
      "metadata": {
        "trusted": true,
        "_uuid": "239a680955b43ca771eaed9d5bf9f3ba3f28bf2c"
      },
      "cell_type": "code",
      "source": "kfold_auc = pd.DataFrame({'train_auc': train_auc, \n                          'valid_auc': valid_auc})\nkfold_auc",
      "execution_count": 37,
      "outputs": [
        {
          "output_type": "execute_result",
          "execution_count": 37,
          "data": {
            "text/plain": "   train_auc  valid_auc\n0   0.829966   0.764321\n1   0.826232   0.767441\n2   0.826040   0.772256\n3   0.837132   0.766504\n4   0.847014   0.767416",
            "text/html": "<div>\n<style scoped>\n    .dataframe tbody tr th:only-of-type {\n        vertical-align: middle;\n    }\n\n    .dataframe tbody tr th {\n        vertical-align: top;\n    }\n\n    .dataframe thead th {\n        text-align: right;\n    }\n</style>\n<table border=\"1\" class=\"dataframe\">\n  <thead>\n    <tr style=\"text-align: right;\">\n      <th></th>\n      <th>train_auc</th>\n      <th>valid_auc</th>\n    </tr>\n  </thead>\n  <tbody>\n    <tr>\n      <th>0</th>\n      <td>0.829966</td>\n      <td>0.764321</td>\n    </tr>\n    <tr>\n      <th>1</th>\n      <td>0.826232</td>\n      <td>0.767441</td>\n    </tr>\n    <tr>\n      <th>2</th>\n      <td>0.826040</td>\n      <td>0.772256</td>\n    </tr>\n    <tr>\n      <th>3</th>\n      <td>0.837132</td>\n      <td>0.766504</td>\n    </tr>\n    <tr>\n      <th>4</th>\n      <td>0.847014</td>\n      <td>0.767416</td>\n    </tr>\n  </tbody>\n</table>\n</div>"
          },
          "metadata": {}
        }
      ]
    },
    {
      "metadata": {
        "trusted": true,
        "_uuid": "4f4d6832db783dd1336db445c473e0e047395891"
      },
      "cell_type": "code",
      "source": "test_predictions.shape",
      "execution_count": 38,
      "outputs": [
        {
          "output_type": "execute_result",
          "execution_count": 38,
          "data": {
            "text/plain": "(48744,)"
          },
          "metadata": {}
        }
      ]
    },
    {
      "metadata": {
        "trusted": true,
        "_uuid": "dfc6b7eefa59216d2072d9b47bc7a242b759b7e7"
      },
      "cell_type": "code",
      "source": "test_output = pd.DataFrame({'SK_ID_CURR':application_test.SK_ID_CURR.values, 'TARGET':test_predictions})\ntest_output.head()",
      "execution_count": 39,
      "outputs": [
        {
          "output_type": "execute_result",
          "execution_count": 39,
          "data": {
            "text/plain": "   SK_ID_CURR    TARGET\n0      100001  0.029940\n1      100005  0.098959\n2      100013  0.013503\n3      100028  0.046132\n4      100038  0.135582",
            "text/html": "<div>\n<style scoped>\n    .dataframe tbody tr th:only-of-type {\n        vertical-align: middle;\n    }\n\n    .dataframe tbody tr th {\n        vertical-align: top;\n    }\n\n    .dataframe thead th {\n        text-align: right;\n    }\n</style>\n<table border=\"1\" class=\"dataframe\">\n  <thead>\n    <tr style=\"text-align: right;\">\n      <th></th>\n      <th>SK_ID_CURR</th>\n      <th>TARGET</th>\n    </tr>\n  </thead>\n  <tbody>\n    <tr>\n      <th>0</th>\n      <td>100001</td>\n      <td>0.029940</td>\n    </tr>\n    <tr>\n      <th>1</th>\n      <td>100005</td>\n      <td>0.098959</td>\n    </tr>\n    <tr>\n      <th>2</th>\n      <td>100013</td>\n      <td>0.013503</td>\n    </tr>\n    <tr>\n      <th>3</th>\n      <td>100028</td>\n      <td>0.046132</td>\n    </tr>\n    <tr>\n      <th>4</th>\n      <td>100038</td>\n      <td>0.135582</td>\n    </tr>\n  </tbody>\n</table>\n</div>"
          },
          "metadata": {}
        }
      ]
    },
    {
      "metadata": {
        "_uuid": "72faa6b8a3041d71e50cc717600c7d0f0b1fbf2f"
      },
      "cell_type": "markdown",
      "source": "The code below has all been commented as it was just in experimentation phase. However, it has good details on implementing logistic regression, grid search, cross validation score and random forest"
    },
    {
      "metadata": {
        "_uuid": "9e52df28878c714b2e1b641edd8e7b26b6ec1309"
      },
      "cell_type": "markdown",
      "source": "13) Logistic Regression"
    },
    {
      "metadata": {
        "trusted": true,
        "_uuid": "73fba6810542d55a796ade7ebe8e492ae7a39327",
        "collapsed": true
      },
      "cell_type": "code",
      "source": "# %%time\n# lr_cv = cross_val_score(LogisticRegression(), X_balanced_data, Y_balanced, cv=5, scoring='roc_auc')",
      "execution_count": null,
      "outputs": []
    },
    {
      "metadata": {
        "trusted": true,
        "_uuid": "23f64d691a29e899ae7624371c732ddf31a20182",
        "collapsed": true
      },
      "cell_type": "code",
      "source": "# np.mean(lr_cv)",
      "execution_count": null,
      "outputs": []
    },
    {
      "metadata": {
        "_uuid": "6b12a06d385d9a21d7164ae027313a2c59037ff7"
      },
      "cell_type": "markdown",
      "source": "Logistic regression on upsampled data is giving a score of 0.633 by Cross validation. \nLet's run a grid search to find the optimal parameters of Penalty and lambda"
    },
    {
      "metadata": {
        "trusted": true,
        "_uuid": "4dabad08f3a2bdfbecac1870a103f3fae594b8cd",
        "collapsed": true
      },
      "cell_type": "code",
      "source": "# %%time\n# hyperparameters = {\n#     'penalty': ['l1', 'l2'], \n#     'C': np.logspace(0,1,5)}\n\n# clf = GridSearchCV(LogisticRegression(), hyperparameters, cv=5, verbose=0)\n# best_fit = clf.fit(X_balanced_data, Y_balanced)",
      "execution_count": null,
      "outputs": []
    },
    {
      "metadata": {
        "trusted": true,
        "_uuid": "5dcb33a0cb37e5ae2d4e60dfc4559e7c1f22a4c2",
        "collapsed": true
      },
      "cell_type": "code",
      "source": "# best_fit.best_params_",
      "execution_count": null,
      "outputs": []
    },
    {
      "metadata": {
        "trusted": true,
        "_uuid": "039d12928224f03acebcf2cfa8233a3e35d28405",
        "scrolled": false,
        "collapsed": true
      },
      "cell_type": "code",
      "source": "# best_fit.best_score_",
      "execution_count": null,
      "outputs": []
    },
    {
      "metadata": {
        "trusted": true,
        "_uuid": "048ea67dd341300fa45d6f5a212c86918924292b",
        "collapsed": true
      },
      "cell_type": "code",
      "source": "#lr_regularized_cv = cross_val_score(LogisticRegression(penalty='l1', C=1), X_balanced_data, Y_balanced, cv=5, scoring='roc_auc')",
      "execution_count": null,
      "outputs": []
    },
    {
      "metadata": {
        "trusted": true,
        "_uuid": "74b7a66fdb7c313cfb8c06400b9710d2dc5f2d43",
        "collapsed": true
      },
      "cell_type": "code",
      "source": "#np.mean(lr_regularized_cv)",
      "execution_count": null,
      "outputs": []
    },
    {
      "metadata": {
        "trusted": true,
        "_uuid": "09dc7e31afe4d80a3fabe6caac61a6a050acdba0",
        "collapsed": true
      },
      "cell_type": "code",
      "source": "# %%time\n# lr_regularized = LogisticRegression(penalty='l1', C=1).fit(X_balanced_data, Y_balanced)",
      "execution_count": null,
      "outputs": []
    },
    {
      "metadata": {
        "trusted": true,
        "_uuid": "96c82c8d1274f3ecb63489616537161053606923",
        "collapsed": true
      },
      "cell_type": "code",
      "source": "# Y_predicted = lr_regularized.predict_proba(X_train)[:, 1]\n# print(roc_auc_score(Y_train, Y_predicted))\n# print(lr_regularized.score(X_train, Y_train))",
      "execution_count": null,
      "outputs": []
    },
    {
      "metadata": {
        "trusted": true,
        "collapsed": true,
        "_uuid": "215428d6bcc87f587df03b0a35bc92556a12920e"
      },
      "cell_type": "code",
      "source": "# Y_pred_test = lr_regularized.predict_proba(X_test)[:, 1]\n# test_output = pd.DataFrame({'SK_ID_CURR':application_test.SK_ID_CURR.values, 'TARGET':Y_pred_test})",
      "execution_count": null,
      "outputs": []
    },
    {
      "metadata": {
        "trusted": true,
        "_uuid": "3f5487e4f4173e7fdd175cc5a15f8d7edaa97ef6",
        "collapsed": true
      },
      "cell_type": "code",
      "source": "# test_output.head()",
      "execution_count": null,
      "outputs": []
    },
    {
      "metadata": {
        "trusted": true,
        "_uuid": "84983a20c93f72183458ebf36fee1563d14812f7",
        "collapsed": true
      },
      "cell_type": "code",
      "source": "# test_output.to_csv('regularized_logistic_output.csv', index = False)",
      "execution_count": null,
      "outputs": []
    },
    {
      "metadata": {
        "_uuid": "3e7d3f21db8c41dd62de38bb224d37c329ada567"
      },
      "cell_type": "markdown",
      "source": "14) Random Forest"
    },
    {
      "metadata": {
        "trusted": true,
        "_uuid": "954b1527149508bb78ca0ee33ddda243ad9d88b3",
        "collapsed": true
      },
      "cell_type": "code",
      "source": "# %%time\n# random_forest_cv = cross_val_score(RandomForestClassifier(n_estimators=600, min_samples_split=30, min_samples_leaf = 10, max_features=\"auto\"), \n#                                    X_balanced_data, \n#                                    Y_balanced, \n#                                    cv=5, \n#                                    scoring='roc_auc')",
      "execution_count": null,
      "outputs": []
    },
    {
      "metadata": {
        "trusted": true,
        "scrolled": true,
        "_uuid": "8e0bae6fbea94e9049c0f76aa6975990b502ae36",
        "collapsed": true
      },
      "cell_type": "code",
      "source": "# np.mean(random_forest_cv)",
      "execution_count": null,
      "outputs": []
    },
    {
      "metadata": {
        "trusted": true,
        "collapsed": true,
        "_uuid": "b9e3aacc15b43c485ba007df28afdefbac96cc0c"
      },
      "cell_type": "code",
      "source": "# %%time\n# rf_model = RandomForestClassifier(n_estimators=600, min_samples_split=30, min_samples_leaf = 10, max_features=\"auto\")\n# rf_model = rf_model.fit(X_balanced_data, Y_balanced)\n# Y_predicted = rf_model.predict_proba(X_train)[:, 1]\n# print(roc_auc_score(Y_train, Y_predicted))",
      "execution_count": null,
      "outputs": []
    },
    {
      "metadata": {
        "trusted": true,
        "_uuid": "35c4235987a9191af89d097b232e9ddb319bc014",
        "collapsed": true
      },
      "cell_type": "code",
      "source": "# Y_pred_test = rf_model.predict_proba(X_test)[:, 1]\n# test_output = pd.DataFrame({'SK_ID_CURR':application_test.SK_ID_CURR.values, 'TARGET':Y_pred_test})\n# test_output.head()",
      "execution_count": null,
      "outputs": []
    },
    {
      "metadata": {
        "trusted": true,
        "collapsed": true,
        "_uuid": "0e76f70136d5cb371f72765cd27a5047f2f9c191"
      },
      "cell_type": "code",
      "source": "# test_output.to_csv('random_forest_output.csv', index = False)",
      "execution_count": null,
      "outputs": []
    },
    {
      "metadata": {
        "_uuid": "0e8b40b9788d8d61a69764c4847e527e5b568260"
      },
      "cell_type": "markdown",
      "source": "15)  Next up - Gradient Boosting"
    },
    {
      "metadata": {
        "trusted": true,
        "_uuid": "e05d81449711121985bebb8d16f4773e09fb1c60",
        "scrolled": true,
        "collapsed": true
      },
      "cell_type": "code",
      "source": "# from lightgbm import LGBMClassifier\n\n# clf = LGBMClassifier(\n#         n_estimators=1000,\n#         learning_rate=0.03,\n#         num_leaves=30,\n#         colsample_bytree=.8,\n#         subsample=.9,\n#         max_depth=7,\n#         reg_alpha=.1,\n#         reg_lambda=.1,\n#         min_split_gain=.01,\n#         min_child_weight=2,\n#         silent=-1,\n#         verbose=-1,\n#     )\n        \n# clf.fit(X_balanced_data, Y_balanced, \n#         eval_set= [(X_balanced_data, Y_balanced), (X_train, Y_train)], \n#         eval_metric='auc', verbose=100, early_stopping_rounds=100  #30\n#        )\n        ",
      "execution_count": null,
      "outputs": []
    },
    {
      "metadata": {
        "trusted": true,
        "scrolled": true,
        "_uuid": "02b988b8ec41fbc06d86aa80785547df36750fc5",
        "collapsed": true
      },
      "cell_type": "code",
      "source": "# feature_importance_df = pd.DataFrame({'features': X_train.columns.tolist(), \n#                                       'feature_importance': clf.feature_importances_})\n# feature_importance_df = feature_importance_df.sort_values('feature_importance', ascending=False)\n# feature_importance_df.head(10)",
      "execution_count": null,
      "outputs": []
    },
    {
      "metadata": {
        "trusted": true,
        "_uuid": "60a3e8fa9324e923a93c10cd02bc3a392ca4009b",
        "collapsed": true
      },
      "cell_type": "code",
      "source": "# top_10 = feature_importance_df[:10]\n# # n = list(range(0,10))\n# # plt.bar(top_10.features, top_10.feature_importance)\n# # plt.xticks(rotation = 90)\n# # plt.show()\n# fig, ax = plt.subplots(figsize=(15,5))\n# pos = list(range(0,10))\n# plt.bar(pos, top_10.feature_importance.values, width = 0.5, align='center')\n# ax.set_xticks(pos)\n# ax.set_xticklabels(top_10.features.values, rotation= 90)\n# # plt.xticks(pos, (inc_typ_idx)) - substitute of above 2 lines\n# plt.show()",
      "execution_count": null,
      "outputs": []
    },
    {
      "metadata": {
        "trusted": true,
        "_uuid": "74e4c6615e4ab1362460a4fb3b514f54eef2dd3c",
        "collapsed": true
      },
      "cell_type": "code",
      "source": "# subsetted_features = feature_importance_df[feature_importance_df.feature_importance != 0][\"features\"].tolist()\n# X_balanced = X_balanced_data[subsetted_features]\n# clf = LGBMClassifier(\n#         n_estimators=2000,\n#         learning_rate=0.03,\n#         num_leaves=30,\n#         colsample_bytree=.8,\n#         subsample=.9,\n#         max_depth=7,\n#         reg_alpha=.1,\n#         reg_lambda=.1,\n#         min_split_gain=.01,\n#         min_child_weight=2,\n#         silent=-1,\n#         verbose=-1,\n#     )\n        \n# clf.fit(X_balanced, Y_balanced, \n#         eval_set= [(X_balanced, Y_balanced), (X_train[subsetted_features], Y_train)], \n#         eval_metric='auc', verbose=100, early_stopping_rounds=100  #30\n#        )\n        ",
      "execution_count": null,
      "outputs": []
    },
    {
      "metadata": {
        "trusted": true,
        "_uuid": "f6943496aa970d3f553a484c16f30c76a11028ca",
        "collapsed": true
      },
      "cell_type": "code",
      "source": "# test_predictions = np.zeros(X_test[subsetted_features].shape[0])\n# test_predictions += clf.predict_proba(X_test[subsetted_features], num_iteration=clf.best_iteration_)[:,1]",
      "execution_count": null,
      "outputs": []
    },
    {
      "metadata": {
        "trusted": true,
        "_uuid": "abe1c68bd0cdbd63011c728b5870328c017d074e",
        "collapsed": true
      },
      "cell_type": "code",
      "source": "# test_predictions\n# test_output = pd.DataFrame({'SK_ID_CURR':application_test.SK_ID_CURR.values, 'TARGET':test_predictions})\n# test_output.head()",
      "execution_count": null,
      "outputs": []
    },
    {
      "metadata": {
        "trusted": true,
        "collapsed": true,
        "_uuid": "0d4669bcc97077e7b6853aa8d873f789a0515f40"
      },
      "cell_type": "code",
      "source": "test_output.to_csv('light_gbm_v3_feature_imp.csv', index = False)",
      "execution_count": null,
      "outputs": []
    }
  ],
  "metadata": {
    "kernelspec": {
      "display_name": "Python 3",
      "language": "python",
      "name": "python3"
    },
    "language_info": {
      "name": "python",
      "version": "3.6.6",
      "mimetype": "text/x-python",
      "codemirror_mode": {
        "name": "ipython",
        "version": 3
      },
      "pygments_lexer": "ipython3",
      "nbconvert_exporter": "python",
      "file_extension": ".py"
    }
  },
  "nbformat": 4,
  "nbformat_minor": 1
}